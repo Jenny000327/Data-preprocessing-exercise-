{
  "nbformat": 4,
  "nbformat_minor": 0,
  "metadata": {
    "colab": {
      "provenance": [],
      "include_colab_link": true
    },
    "kernelspec": {
      "name": "python3",
      "display_name": "Python 3"
    },
    "language_info": {
      "name": "python"
    }
  },
  "cells": [
    {
      "cell_type": "markdown",
      "metadata": {
        "id": "view-in-github",
        "colab_type": "text"
      },
      "source": [
        "<a href=\"https://colab.research.google.com/github/Jenny000327/Data-preprocessing_visualizatione/blob/main/NaverAPI.ipynb\" target=\"_parent\"><img src=\"https://colab.research.google.com/assets/colab-badge.svg\" alt=\"Open In Colab\"/></a>"
      ]
    },
    {
      "cell_type": "markdown",
      "source": [
        "#통합 검색어 트렌드 API 구현 예제"
      ],
      "metadata": {
        "id": "hYFprS39eT11"
      }
    },
    {
      "cell_type": "code",
      "execution_count": null,
      "metadata": {
        "id": "tBbHn4QKXHAG",
        "colab": {
          "base_uri": "https://localhost:8080/"
        },
        "outputId": "2635cdfa-3ab6-4a26-b7e3-33f283e4d531"
      },
      "outputs": [
        {
          "output_type": "stream",
          "name": "stdout",
          "text": [
            "{\"startDate\":\"2017-01-01\",\"endDate\":\"2017-04-30\",\"timeUnit\":\"month\",\"results\":[{\"title\":\"한글\",\"keywords\":[\"한글\",\"korean\"],\"data\":[{\"period\":\"2017-01-01\",\"ratio\":47.00101},{\"period\":\"2017-02-01\",\"ratio\":53.23619},{\"period\":\"2017-03-01\",\"ratio\":100},{\"period\":\"2017-04-01\",\"ratio\":85.327}]},{\"title\":\"영어\",\"keywords\":[\"영어\",\"english\"],\"data\":[{\"period\":\"2017-01-01\",\"ratio\":40.0881},{\"period\":\"2017-02-01\",\"ratio\":36.69942},{\"period\":\"2017-03-01\",\"ratio\":52.11792},{\"period\":\"2017-04-01\",\"ratio\":44.4595}]}]}\n"
          ]
        }
      ],
      "source": [
        "import os\n",
        "import sys\n",
        "import urllib.request\n",
        "client_id = \"0T1JOYIqKWNOC8o1_6pM\"\n",
        "client_secret = \"rkfbCrzxzA\"\n",
        "url = \"https://openapi.naver.com/v1/datalab/search\";\n",
        "body = \"{\\\"startDate\\\":\\\"2017-01-01\\\",\\\"endDate\\\":\\\"2017-04-30\\\",\\\"timeUnit\\\":\\\"month\\\",\\\"keywordGroups\\\":[{\\\"groupName\\\":\\\"한글\\\",\\\"keywords\\\":[\\\"한글\\\",\\\"korean\\\"]},{\\\"groupName\\\":\\\"영어\\\",\\\"keywords\\\":[\\\"영어\\\",\\\"english\\\"]}],\\\"device\\\":\\\"pc\\\",\\\"ages\\\":[\\\"1\\\",\\\"2\\\"],\\\"gender\\\":\\\"f\\\"}\";\n",
        "\n",
        "request = urllib.request.Request(url)\n",
        "request.add_header(\"X-Naver-Client-Id\",client_id)\n",
        "request.add_header(\"X-Naver-Client-Secret\",client_secret)\n",
        "request.add_header(\"Content-Type\",\"application/json\")\n",
        "response = urllib.request.urlopen(request, data=body.encode(\"utf-8\"))\n",
        "rescode = response.getcode()\n",
        "if(rescode==200):\n",
        "    response_body = response.read()\n",
        "    print(response_body.decode('utf-8'))\n",
        "else:\n",
        "    print(\"Error Code:\" + rescode)"
      ]
    },
    {
      "cell_type": "markdown",
      "source": [
        "# 쇼핑인사이트 API 구현 예제"
      ],
      "metadata": {
        "id": "emotJ5vue12r"
      }
    },
    {
      "cell_type": "code",
      "source": [
        "#-*- coding: utf-8 -*-\n",
        "import os\n",
        "import sys\n",
        "import urllib.request\n",
        "client_id = \"0T1JOYIqKWNOC8o1_6pM\"\n",
        "client_secret = \"rkfbCrzxzA\"\n",
        "url = \"https://openapi.naver.com/v1/datalab/shopping/categories\";\n",
        "body = \"{\\\"startDate\\\":\\\"2017-08-01\\\",\\\"endDate\\\":\\\"2017-09-30\\\",\\\"timeUnit\\\":\\\"month\\\",\\\"category\\\":[{\\\"name\\\":\\\"패션의류\\\",\\\"param\\\":[\\\"50000000\\\"]},{\\\"name\\\":\\\"화장품/미용\\\",\\\"param\\\":[\\\"50000002\\\"]}],\\\"device\\\":\\\"pc\\\",\\\"ages\\\":[\\\"20\\\",\\\"30\\\"],\\\"gender\\\":\\\"f\\\"}\";\n",
        "\n",
        "request = urllib.request.Request(url)\n",
        "request.add_header(\"X-Naver-Client-Id\",client_id)\n",
        "request.add_header(\"X-Naver-Client-Secret\",client_secret)\n",
        "request.add_header(\"Content-Type\",\"application/json\")\n",
        "response = urllib.request.urlopen(request, data=body.encode(\"utf-8\"))\n",
        "rescode = response.getcode()\n",
        "if(rescode==200):\n",
        "    response_body = response.read()\n",
        "    print(response_body.decode('utf-8'))\n",
        "else:\n",
        "    print(\"Error Code:\" + rescode)"
      ],
      "metadata": {
        "id": "bS6NfcCoeuxO",
        "colab": {
          "base_uri": "https://localhost:8080/"
        },
        "outputId": "af015e4c-0b2b-4c38-9056-ab59cbb55978"
      },
      "execution_count": null,
      "outputs": [
        {
          "output_type": "stream",
          "name": "stdout",
          "text": [
            "{\"startDate\":\"2017-08-01\",\"endDate\":\"2017-09-30\",\"timeUnit\":\"month\",\"results\":[{\"title\":\"패션의류\",\"category\":[\"50000000\"],\"data\":[{\"period\":\"2017-08-01\",\"ratio\":84.01252},{\"period\":\"2017-09-01\",\"ratio\":100}]},{\"title\":\"화장품/미용\",\"category\":[\"50000002\"],\"data\":[{\"period\":\"2017-08-01\",\"ratio\":22.21162},{\"period\":\"2017-09-01\",\"ratio\":21.54278}]}]}\n"
          ]
        }
      ]
    },
    {
      "cell_type": "markdown",
      "source": [
        "# 네이버 검색 API 예제 - 블로그 검색\n"
      ],
      "metadata": {
        "id": "-zfV3hFPeMR_"
      }
    },
    {
      "cell_type": "markdown",
      "source": [
        "### 네이버 웹문서 검색 API"
      ],
      "metadata": {
        "id": "vrvKx0jD9aRf"
      }
    },
    {
      "cell_type": "code",
      "source": [
        "import os\n",
        "import sys\n",
        "import urllib.request\n",
        "import pandas as pd\n",
        "import json\n",
        "import re\n",
        "\n",
        "client_id = \"0T1JOYIqKWNOC8o1_6pM\"\n",
        "client_secret = \"rkfbCrzxzA\"\n",
        "query = urllib.parse.quote(input(\"검색 질의: \"))\n",
        "idx = 0\n",
        "display = 100\n",
        "start = 1 \n",
        "end = 1000\n",
        "\n",
        "web_df = pd.DataFrame(columns =(\"Title\", \"Link\", \"Description\"))\n",
        "for start_index in range(start, end, display):\n",
        "    url = \"https://openapi.naver.com/v1/search/blog?query=\" + query  + \"&display=\" + str(display) + \"&start=\" + str(start_index)\n",
        "\n",
        "    request = urllib.request.Request(url)\n",
        "    request.add_header(\"X-Naver-Client-Id\",client_id)\n",
        "    request.add_header(\"X-Naver-Client-Secret\",client_secret)\n",
        "    response = urllib.request.urlopen(request)\n",
        "    rescode = response.getcode()\n",
        "    if(rescode==200):\n",
        "        response_body = response.read()\n",
        "        response_dict = json.loads(response_body.decode('utf-8'))\n",
        "        items = response_dict['items']\n",
        "        for item_index in range(0,len(items)):\n",
        "            remove_tag = re.compile('<.*?>')\n",
        "            title = re.sub(remove_tag,'', items[item_index]['title'])\n",
        "            link = items[item_index]['link']\n",
        "            description = re.sub(remove_tag,'', items[item_index]['description'])\n",
        "            web_df.loc[idx] = [title, link, description]\n",
        "            idx += 1\n",
        "    else:\n",
        "        print(\"Error Code:\" + rescode)\n",
        "\n",
        "web_df"
      ],
      "metadata": {
        "colab": {
          "base_uri": "https://localhost:8080/",
          "height": 971
        },
        "id": "qi6pO_M5dZja",
        "outputId": "e1ce19f5-8480-46dc-d582-b3399936a17e"
      },
      "execution_count": 2,
      "outputs": [
        {
          "name": "stdout",
          "output_type": "stream",
          "text": [
            "검색 질의: 스마트스토어\n"
          ]
        },
        {
          "output_type": "execute_result",
          "data": {
            "text/plain": [
              "                                                 Title  \\\n",
              "0                             스마트 스토어 부가세 신고하기.(간이과세자)   \n",
              "1                               스마트스토어창업 사업자등록 알뜰하게 하기   \n",
              "2                                   스마트스토어 부업 시작하게된 이유   \n",
              "3                    스마트스토어 사업자전환 후기: 홈택스로 개인사업자등록...    \n",
              "4                               네이버 스마트스토어 창업 주부도 가능해요   \n",
              "..                                                 ...   \n",
              "995                [당첨자발표] 신제품 출시 기념! 린백 스마트 스토어 찜 이벤트   \n",
              "996                대전 태평소국밥 :: 매장 웨이팅줄, 스마트스토어 택배 시켜먹기   \n",
              "997  &apos;선호커피&apos; 성덕의 원두 추천☕ &apos;클리셰 블랜드&apos...   \n",
              "998                 스마트스토어 위탁판매 도매사이트 온채널 주문 및 포인트...    \n",
              "999       [마감][오픈] 스마트스토어매거진 &lt;find&gt; 신청 이벤트 (선착순)   \n",
              "\n",
              "                                                  Link  \\\n",
              "0        https://blog.naver.com/onlybboya/222975111504   \n",
              "1         https://blog.naver.com/pikadali/223038636295   \n",
              "2        https://blog.naver.com/watergilr/223057986791   \n",
              "3          https://blog.naver.com/camoyun/223063071669   \n",
              "4         https://blog.naver.com/jwillfly/223063495033   \n",
              "..                                                 ...   \n",
              "995  https://blog.naver.com/leanbackchair/223022744512   \n",
              "996        https://blog.naver.com/kwjz614/222941040072   \n",
              "997   https://blog.naver.com/kakumatakaku/223053763330   \n",
              "998       https://blog.naver.com/joyapron/222927393145   \n",
              "999    https://blog.naver.com/living_food/222700371456   \n",
              "\n",
              "                                           Description  \n",
              "0    내년에는 세금 신고가 너무 어려워서 세무사를 고용해야 할만큼 많이 팔고 싶네요~ 매...  \n",
              "1    됩니다 스마트스토어창업 상품 선정 시 참고사항 이렇게 준비를 마쳤으면 개설 이전에 ...  \n",
              "2    바로 스마트스토어 부업 이에요. 혹시 재택으로 부수익 벌고 싶으신 분들이라면 주목해...  \n",
              "3    스마트스토어센터 팝업 스마트스토어센터에 들어갔더니 '판매자님은 사업자전환이 필요합니...  \n",
              "4    네이버 스마트스토어 창업으로 다들 몇백씩 번다고 해잖아요? 저는 제가 스마트 스토어...  \n",
              "..                                                 ...  \n",
              "995  #블로그이벤트 #EVENT &quot;스토어팜 찜&quot; 이벤트 당첨자 발표 정...  \n",
              "996  가게 문앞을 기웃거려보니 스마트스토어가 있었다. ▼ 구매정보 https://smar...  \n",
              "997  스마트스토어에서 만나볼 수 있습니다 원두 분쇄도 선택도 가능하니, 핸드드립, 에스프...  \n",
              "998  스마트 스토어에 상세페이지 입력 위 과정을 해 두었을 것이다. 주문이 들어오면? 로...  \n",
              "999  &quot;스몰 브랜드 전성시대, 작지만 큰 발견&quot;이라는 테마로 스마트스토...  \n",
              "\n",
              "[1000 rows x 3 columns]"
            ],
            "text/html": [
              "\n",
              "  <div id=\"df-970f5cc0-21b9-478e-9c49-4f4d356a686b\">\n",
              "    <div class=\"colab-df-container\">\n",
              "      <div>\n",
              "<style scoped>\n",
              "    .dataframe tbody tr th:only-of-type {\n",
              "        vertical-align: middle;\n",
              "    }\n",
              "\n",
              "    .dataframe tbody tr th {\n",
              "        vertical-align: top;\n",
              "    }\n",
              "\n",
              "    .dataframe thead th {\n",
              "        text-align: right;\n",
              "    }\n",
              "</style>\n",
              "<table border=\"1\" class=\"dataframe\">\n",
              "  <thead>\n",
              "    <tr style=\"text-align: right;\">\n",
              "      <th></th>\n",
              "      <th>Title</th>\n",
              "      <th>Link</th>\n",
              "      <th>Description</th>\n",
              "    </tr>\n",
              "  </thead>\n",
              "  <tbody>\n",
              "    <tr>\n",
              "      <th>0</th>\n",
              "      <td>스마트 스토어 부가세 신고하기.(간이과세자)</td>\n",
              "      <td>https://blog.naver.com/onlybboya/222975111504</td>\n",
              "      <td>내년에는 세금 신고가 너무 어려워서 세무사를 고용해야 할만큼 많이 팔고 싶네요~ 매...</td>\n",
              "    </tr>\n",
              "    <tr>\n",
              "      <th>1</th>\n",
              "      <td>스마트스토어창업 사업자등록 알뜰하게 하기</td>\n",
              "      <td>https://blog.naver.com/pikadali/223038636295</td>\n",
              "      <td>됩니다 스마트스토어창업 상품 선정 시 참고사항 이렇게 준비를 마쳤으면 개설 이전에 ...</td>\n",
              "    </tr>\n",
              "    <tr>\n",
              "      <th>2</th>\n",
              "      <td>스마트스토어 부업 시작하게된 이유</td>\n",
              "      <td>https://blog.naver.com/watergilr/223057986791</td>\n",
              "      <td>바로 스마트스토어 부업 이에요. 혹시 재택으로 부수익 벌고 싶으신 분들이라면 주목해...</td>\n",
              "    </tr>\n",
              "    <tr>\n",
              "      <th>3</th>\n",
              "      <td>스마트스토어 사업자전환 후기: 홈택스로 개인사업자등록...</td>\n",
              "      <td>https://blog.naver.com/camoyun/223063071669</td>\n",
              "      <td>스마트스토어센터 팝업 스마트스토어센터에 들어갔더니 '판매자님은 사업자전환이 필요합니...</td>\n",
              "    </tr>\n",
              "    <tr>\n",
              "      <th>4</th>\n",
              "      <td>네이버 스마트스토어 창업 주부도 가능해요</td>\n",
              "      <td>https://blog.naver.com/jwillfly/223063495033</td>\n",
              "      <td>네이버 스마트스토어 창업으로 다들 몇백씩 번다고 해잖아요? 저는 제가 스마트 스토어...</td>\n",
              "    </tr>\n",
              "    <tr>\n",
              "      <th>...</th>\n",
              "      <td>...</td>\n",
              "      <td>...</td>\n",
              "      <td>...</td>\n",
              "    </tr>\n",
              "    <tr>\n",
              "      <th>995</th>\n",
              "      <td>[당첨자발표] 신제품 출시 기념! 린백 스마트 스토어 찜 이벤트</td>\n",
              "      <td>https://blog.naver.com/leanbackchair/223022744512</td>\n",
              "      <td>#블로그이벤트 #EVENT &amp;quot;스토어팜 찜&amp;quot; 이벤트 당첨자 발표 정...</td>\n",
              "    </tr>\n",
              "    <tr>\n",
              "      <th>996</th>\n",
              "      <td>대전 태평소국밥 :: 매장 웨이팅줄, 스마트스토어 택배 시켜먹기</td>\n",
              "      <td>https://blog.naver.com/kwjz614/222941040072</td>\n",
              "      <td>가게 문앞을 기웃거려보니 스마트스토어가 있었다. ▼ 구매정보 https://smar...</td>\n",
              "    </tr>\n",
              "    <tr>\n",
              "      <th>997</th>\n",
              "      <td>&amp;apos;선호커피&amp;apos; 성덕의 원두 추천☕ &amp;apos;클리셰 블랜드&amp;apos...</td>\n",
              "      <td>https://blog.naver.com/kakumatakaku/223053763330</td>\n",
              "      <td>스마트스토어에서 만나볼 수 있습니다 원두 분쇄도 선택도 가능하니, 핸드드립, 에스프...</td>\n",
              "    </tr>\n",
              "    <tr>\n",
              "      <th>998</th>\n",
              "      <td>스마트스토어 위탁판매 도매사이트 온채널 주문 및 포인트...</td>\n",
              "      <td>https://blog.naver.com/joyapron/222927393145</td>\n",
              "      <td>스마트 스토어에 상세페이지 입력 위 과정을 해 두었을 것이다. 주문이 들어오면? 로...</td>\n",
              "    </tr>\n",
              "    <tr>\n",
              "      <th>999</th>\n",
              "      <td>[마감][오픈] 스마트스토어매거진 &amp;lt;find&amp;gt; 신청 이벤트 (선착순)</td>\n",
              "      <td>https://blog.naver.com/living_food/222700371456</td>\n",
              "      <td>&amp;quot;스몰 브랜드 전성시대, 작지만 큰 발견&amp;quot;이라는 테마로 스마트스토...</td>\n",
              "    </tr>\n",
              "  </tbody>\n",
              "</table>\n",
              "<p>1000 rows × 3 columns</p>\n",
              "</div>\n",
              "      <button class=\"colab-df-convert\" onclick=\"convertToInteractive('df-970f5cc0-21b9-478e-9c49-4f4d356a686b')\"\n",
              "              title=\"Convert this dataframe to an interactive table.\"\n",
              "              style=\"display:none;\">\n",
              "        \n",
              "  <svg xmlns=\"http://www.w3.org/2000/svg\" height=\"24px\"viewBox=\"0 0 24 24\"\n",
              "       width=\"24px\">\n",
              "    <path d=\"M0 0h24v24H0V0z\" fill=\"none\"/>\n",
              "    <path d=\"M18.56 5.44l.94 2.06.94-2.06 2.06-.94-2.06-.94-.94-2.06-.94 2.06-2.06.94zm-11 1L8.5 8.5l.94-2.06 2.06-.94-2.06-.94L8.5 2.5l-.94 2.06-2.06.94zm10 10l.94 2.06.94-2.06 2.06-.94-2.06-.94-.94-2.06-.94 2.06-2.06.94z\"/><path d=\"M17.41 7.96l-1.37-1.37c-.4-.4-.92-.59-1.43-.59-.52 0-1.04.2-1.43.59L10.3 9.45l-7.72 7.72c-.78.78-.78 2.05 0 2.83L4 21.41c.39.39.9.59 1.41.59.51 0 1.02-.2 1.41-.59l7.78-7.78 2.81-2.81c.8-.78.8-2.07 0-2.86zM5.41 20L4 18.59l7.72-7.72 1.47 1.35L5.41 20z\"/>\n",
              "  </svg>\n",
              "      </button>\n",
              "      \n",
              "  <style>\n",
              "    .colab-df-container {\n",
              "      display:flex;\n",
              "      flex-wrap:wrap;\n",
              "      gap: 12px;\n",
              "    }\n",
              "\n",
              "    .colab-df-convert {\n",
              "      background-color: #E8F0FE;\n",
              "      border: none;\n",
              "      border-radius: 50%;\n",
              "      cursor: pointer;\n",
              "      display: none;\n",
              "      fill: #1967D2;\n",
              "      height: 32px;\n",
              "      padding: 0 0 0 0;\n",
              "      width: 32px;\n",
              "    }\n",
              "\n",
              "    .colab-df-convert:hover {\n",
              "      background-color: #E2EBFA;\n",
              "      box-shadow: 0px 1px 2px rgba(60, 64, 67, 0.3), 0px 1px 3px 1px rgba(60, 64, 67, 0.15);\n",
              "      fill: #174EA6;\n",
              "    }\n",
              "\n",
              "    [theme=dark] .colab-df-convert {\n",
              "      background-color: #3B4455;\n",
              "      fill: #D2E3FC;\n",
              "    }\n",
              "\n",
              "    [theme=dark] .colab-df-convert:hover {\n",
              "      background-color: #434B5C;\n",
              "      box-shadow: 0px 1px 3px 1px rgba(0, 0, 0, 0.15);\n",
              "      filter: drop-shadow(0px 1px 2px rgba(0, 0, 0, 0.3));\n",
              "      fill: #FFFFFF;\n",
              "    }\n",
              "  </style>\n",
              "\n",
              "      <script>\n",
              "        const buttonEl =\n",
              "          document.querySelector('#df-970f5cc0-21b9-478e-9c49-4f4d356a686b button.colab-df-convert');\n",
              "        buttonEl.style.display =\n",
              "          google.colab.kernel.accessAllowed ? 'block' : 'none';\n",
              "\n",
              "        async function convertToInteractive(key) {\n",
              "          const element = document.querySelector('#df-970f5cc0-21b9-478e-9c49-4f4d356a686b');\n",
              "          const dataTable =\n",
              "            await google.colab.kernel.invokeFunction('convertToInteractive',\n",
              "                                                     [key], {});\n",
              "          if (!dataTable) return;\n",
              "\n",
              "          const docLinkHtml = 'Like what you see? Visit the ' +\n",
              "            '<a target=\"_blank\" href=https://colab.research.google.com/notebooks/data_table.ipynb>data table notebook</a>'\n",
              "            + ' to learn more about interactive tables.';\n",
              "          element.innerHTML = '';\n",
              "          dataTable['output_type'] = 'display_data';\n",
              "          await google.colab.output.renderOutput(dataTable, element);\n",
              "          const docLink = document.createElement('div');\n",
              "          docLink.innerHTML = docLinkHtml;\n",
              "          element.appendChild(docLink);\n",
              "        }\n",
              "      </script>\n",
              "    </div>\n",
              "  </div>\n",
              "  "
            ]
          },
          "metadata": {},
          "execution_count": 2
        }
      ]
    },
    {
      "cell_type": "code",
      "source": [
        "import requests\n",
        "import json\n",
        "import datetime\n",
        "\n",
        "# API 호출을 위한 인증 정보\n",
        "client_id = \"0T1JOYIqKWNOC8o1_6pM\"\n",
        "client_secret = \"rkfbCrzxzA\"\n",
        "\n",
        "# API 호출을 위한 URL\n",
        "url = \"https://openapi.naver.com/v1/datalab/search\"\n",
        "\n",
        "# 검색어 리스트\n",
        "keywords = [\"스마트폰\", \"노트북\", \"태블릿\"]\n",
        "\n",
        "# 조회 기간 설정 (1주일)\n",
        "start_date = datetime.datetime.now() - datetime.timedelta(days=7)\n",
        "end_date = datetime.datetime.now()\n",
        "\n",
        "# API 호출을 위한 헤더 설정\n",
        "headers = {\n",
        "    'Content-Type': 'application/json',\n",
        "    'X-Naver-Client-Id': client_id,\n",
        "    'X-Naver-Client-Secret': client_secret\n",
        "}\n",
        "\n",
        "# API 호출을 위한 파라미터 설정\n",
        "params = {\n",
        "    \"startDate\": start_date.strftime('%Y-%m-%d'),\n",
        "    \"endDate\": end_date.strftime('%Y-%m-%d'),\n",
        "    \"timeUnit\": \"date\",\n",
        "    \"keywordGroups\": [\n",
        "        {\"groupName\": \"keyword_group\", \"keywords\": keywords}\n",
        "    ]\n",
        "}\n",
        "\n",
        "# API 호출\n",
        "response = requests.post(url, headers=headers, data=json.dumps(params))\n",
        "\n",
        "# API 호출 결과 파싱\n",
        "result = json.loads(response.text)\n",
        "\n",
        "# 검색어별 검색량 출력\n",
        "# 검색어별 검색량 출력\n",
        "for data in result['results'][0]['data']:\n",
        "    print(f\"검색어: {data['period']}, 검색량: {data['ratio']}\")\n"
      ],
      "metadata": {
        "colab": {
          "base_uri": "https://localhost:8080/"
        },
        "id": "8tZ_cODamQoC",
        "outputId": "2a643903-69a3-47a9-eeec-5b76e96eaa89"
      },
      "execution_count": null,
      "outputs": [
        {
          "output_type": "stream",
          "name": "stdout",
          "text": [
            "검색어: 2023-03-27, 검색량: 61.0375\n",
            "검색어: 2023-03-28, 검색량: 60.415\n",
            "검색어: 2023-03-29, 검색량: 61.32482\n",
            "검색어: 2023-03-30, 검색량: 58.65921\n",
            "검색어: 2023-03-31, 검색량: 63.38919\n",
            "검색어: 2023-04-01, 검색량: 100\n",
            "검색어: 2023-04-02, 검색량: 51.18382\n"
          ]
        }
      ]
    },
    {
      "cell_type": "markdown",
      "source": [],
      "metadata": {
        "id": "YnQTJD7jCZrJ"
      }
    },
    {
      "cell_type": "code",
      "source": [
        "import urllib.request\n",
        "import json\n",
        "\n",
        "client_id = \"0T1JOYIqKWNOC8o1_6pM\" # 인증키의 클라이언트 아이디\n",
        "client_secret = \"rkfbCrzxzA\" # 인증키의 클라이언트 시크릿\n"
      ],
      "metadata": {
        "id": "xKnnz933_--R"
      },
      "execution_count": null,
      "outputs": []
    },
    {
      "cell_type": "code",
      "source": [
        "query = \"검색어\" # 검색어\n",
        "start_date = \"2022-01-01\" # 검색 기간 시작일\n",
        "end_date = \"2022-03-31\" # 검색 기간 종료일\n",
        "time_unit = \"date\" # 기간 단위 (date, week, month)\n",
        "group_age = \"all\" # 성별/연령 구분 (all, 10, 20, 30, 40, 50, 60)\n",
        "group_gender = \"all\" # 성별 구분 (all, m, f)\n"
      ],
      "metadata": {
        "id": "WN2Bd1lJAGCC"
      },
      "execution_count": null,
      "outputs": []
    },
    {
      "cell_type": "code",
      "source": [
        "url = \"https://openapi.naver.com/v1/datalab/search\"\n",
        "headers = {\n",
        "    \"X-Naver-Client-Id\": client_id,\n",
        "    \"X-Naver-Client-Secret\": client_secret,\n",
        "    \"Content-Type\": \"application/json\"\n",
        "}\n",
        "\n",
        "data = {\n",
        "    \"startDate\": start_date,\n",
        "    \"endDate\": end_date,\n",
        "    \"timeUnit\": time_unit,\n",
        "    \"keywordGroups\": [\n",
        "        {\"groupName\": query, \"keywords\": [query]}\n",
        "    ],\n",
        "    \"device\": \"\",\n",
        "    \"ages\": [group_age],\n",
        "    \"gender\": group_gender\n",
        "}\n"
      ],
      "metadata": {
        "id": "1O3vs244AIMg"
      },
      "execution_count": null,
      "outputs": []
    },
    {
      "cell_type": "code",
      "source": [
        "try:\n",
        "    # 데이터 랩 API 호출\n",
        "    request = urllib.request.Request(url, headers=headers)\n",
        "    response = urllib.request.urlopen(request, data=json.dumps(data).encode(\"utf-8\"))\n",
        "\n",
        "    # API 호출 결과 확인\n",
        "    response_body = json.loads(response.read().decode(\"utf-8\"))\n",
        "    print(response_body)\n",
        "except Exception as e:\n",
        "    print(str(e))"
      ],
      "metadata": {
        "colab": {
          "base_uri": "https://localhost:8080/"
        },
        "id": "HOLot03IButA",
        "outputId": "a9b9f31e-7a12-4991-bb49-58a47faf1733"
      },
      "execution_count": null,
      "outputs": [
        {
          "output_type": "stream",
          "name": "stdout",
          "text": [
            "{'startDate': '2016-01-01', 'endDate': '2022-04-30', 'timeUnit': 'month', 'results': [{'title': '코로나', 'keywords': ['코로나', 'covid-19', '코로나바이러스'], 'data': [{'period': '2016-01-01', 'ratio': 0.0279}, {'period': '2016-02-01', 'ratio': 0.02437}, {'period': '2016-03-01', 'ratio': 0.02857}, {'period': '2016-04-01', 'ratio': 0.02861}, {'period': '2016-05-01', 'ratio': 0.0284}, {'period': '2016-06-01', 'ratio': 0.04926}, {'period': '2016-07-01', 'ratio': 0.02883}, {'period': '2016-08-01', 'ratio': 0.09398}, {'period': '2016-09-01', 'ratio': 0.10802}, {'period': '2016-10-01', 'ratio': 0.05582}, {'period': '2016-11-01', 'ratio': 0.13275}, {'period': '2016-12-01', 'ratio': 0.04123}, {'period': '2017-01-01', 'ratio': 0.03311}, {'period': '2017-02-01', 'ratio': 0.02621}, {'period': '2017-03-01', 'ratio': 0.03166}, {'period': '2017-04-01', 'ratio': 0.03071}, {'period': '2017-05-01', 'ratio': 0.03194}, {'period': '2017-06-01', 'ratio': 0.03644}, {'period': '2017-07-01', 'ratio': 0.03437}, {'period': '2017-08-01', 'ratio': 0.04046}, {'period': '2017-09-01', 'ratio': 0.03285}, {'period': '2017-10-01', 'ratio': 0.02796}, {'period': '2017-11-01', 'ratio': 0.02736}, {'period': '2017-12-01', 'ratio': 0.0298}, {'period': '2018-01-01', 'ratio': 0.03084}, {'period': '2018-02-01', 'ratio': 0.02588}, {'period': '2018-03-01', 'ratio': 0.02654}, {'period': '2018-04-01', 'ratio': 0.02592}, {'period': '2018-05-01', 'ratio': 0.02746}, {'period': '2018-06-01', 'ratio': 0.03608}, {'period': '2018-07-01', 'ratio': 0.03316}, {'period': '2018-08-01', 'ratio': 0.03472}, {'period': '2018-09-01', 'ratio': 0.03377}, {'period': '2018-10-01', 'ratio': 0.03118}, {'period': '2018-11-01', 'ratio': 0.10118}, {'period': '2018-12-01', 'ratio': 0.0359}, {'period': '2019-01-01', 'ratio': 0.02947}, {'period': '2019-02-01', 'ratio': 0.02326}, {'period': '2019-03-01', 'ratio': 0.02508}, {'period': '2019-04-01', 'ratio': 0.03069}, {'period': '2019-05-01', 'ratio': 0.02733}, {'period': '2019-06-01', 'ratio': 0.03208}, {'period': '2019-07-01', 'ratio': 0.03176}, {'period': '2019-08-01', 'ratio': 0.02962}, {'period': '2019-09-01', 'ratio': 0.03064}, {'period': '2019-10-01', 'ratio': 0.02732}, {'period': '2019-11-01', 'ratio': 0.02738}, {'period': '2019-12-01', 'ratio': 0.03041}, {'period': '2020-01-01', 'ratio': 15.99916}, {'period': '2020-02-01', 'ratio': 98.54893}, {'period': '2020-03-01', 'ratio': 100}, {'period': '2020-04-01', 'ratio': 38.1885}, {'period': '2020-05-01', 'ratio': 33.71645}, {'period': '2020-06-01', 'ratio': 20.20777}, {'period': '2020-07-01', 'ratio': 14.39235}, {'period': '2020-08-01', 'ratio': 47.91773}, {'period': '2020-09-01', 'ratio': 32.50627}, {'period': '2020-10-01', 'ratio': 21.5724}, {'period': '2020-11-01', 'ratio': 42.97219}, {'period': '2020-12-01', 'ratio': 73.23473}, {'period': '2021-01-01', 'ratio': 33.57299}, {'period': '2021-02-01', 'ratio': 18.58978}, {'period': '2021-03-01', 'ratio': 13.09647}, {'period': '2021-04-01', 'ratio': 17.2334}, {'period': '2021-05-01', 'ratio': 9.06915}, {'period': '2021-06-01', 'ratio': 7.8914}, {'period': '2021-07-01', 'ratio': 32.5545}, {'period': '2021-08-01', 'ratio': 18.31582}, {'period': '2021-09-01', 'ratio': 11.66305}, {'period': '2021-10-01', 'ratio': 8.10027}, {'period': '2021-11-01', 'ratio': 11.21222}, {'period': '2021-12-01', 'ratio': 19.7724}, {'period': '2022-01-01', 'ratio': 11.97674}, {'period': '2022-02-01', 'ratio': 23.70625}, {'period': '2022-03-01', 'ratio': 18.75036}, {'period': '2022-04-01', 'ratio': 8.77212}]}, {'title': '올림픽', 'keywords': ['도쿄올림픽', 'olympic', '올림픽 개최 국가'], 'data': [{'period': '2016-01-01', 'ratio': 0.00912}, {'period': '2016-02-01', 'ratio': 0.00586}, {'period': '2016-03-01', 'ratio': 0.00644}, {'period': '2016-04-01', 'ratio': 0.007}, {'period': '2016-05-01', 'ratio': 0.00952}, {'period': '2016-06-01', 'ratio': 0.01057}, {'period': '2016-07-01', 'ratio': 0.01149}, {'period': '2016-08-01', 'ratio': 0.20306}, {'period': '2016-09-01', 'ratio': 0.0162}, {'period': '2016-10-01', 'ratio': 0.01916}, {'period': '2016-11-01', 'ratio': 0.01187}, {'period': '2016-12-01', 'ratio': 0.01073}, {'period': '2017-01-01', 'ratio': 0.01192}, {'period': '2017-02-01', 'ratio': 0.01466}, {'period': '2017-03-01', 'ratio': 0.01277}, {'period': '2017-04-01', 'ratio': 0.01015}, {'period': '2017-05-01', 'ratio': 0.01294}, {'period': '2017-06-01', 'ratio': 0.01753}, {'period': '2017-07-01', 'ratio': 0.01604}, {'period': '2017-08-01', 'ratio': 0.01453}, {'period': '2017-09-01', 'ratio': 0.01442}, {'period': '2017-10-01', 'ratio': 0.01402}, {'period': '2017-11-01', 'ratio': 0.02103}, {'period': '2017-12-01', 'ratio': 0.02517}, {'period': '2018-01-01', 'ratio': 0.03583}, {'period': '2018-02-01', 'ratio': 0.10699}, {'period': '2018-03-01', 'ratio': 0.03039}, {'period': '2018-04-01', 'ratio': 0.01052}, {'period': '2018-05-01', 'ratio': 0.00979}, {'period': '2018-06-01', 'ratio': 0.01421}, {'period': '2018-07-01', 'ratio': 0.0146}, {'period': '2018-08-01', 'ratio': 0.02164}, {'period': '2018-09-01', 'ratio': 0.03158}, {'period': '2018-10-01', 'ratio': 0.01485}, {'period': '2018-11-01', 'ratio': 0.01313}, {'period': '2018-12-01', 'ratio': 0.01149}, {'period': '2019-01-01', 'ratio': 0.02037}, {'period': '2019-02-01', 'ratio': 0.01622}, {'period': '2019-03-01', 'ratio': 0.02132}, {'period': '2019-04-01', 'ratio': 0.02143}, {'period': '2019-05-01', 'ratio': 0.02458}, {'period': '2019-06-01', 'ratio': 0.05944}, {'period': '2019-07-01', 'ratio': 0.08372}, {'period': '2019-08-01', 'ratio': 0.18725}, {'period': '2019-09-01', 'ratio': 0.07927}, {'period': '2019-10-01', 'ratio': 0.0688}, {'period': '2019-11-01', 'ratio': 0.08523}, {'period': '2019-12-01', 'ratio': 0.06953}, {'period': '2020-01-01', 'ratio': 0.38814}, {'period': '2020-02-01', 'ratio': 0.27137}, {'period': '2020-03-01', 'ratio': 2.06874}, {'period': '2020-04-01', 'ratio': 0.0385}, {'period': '2020-05-01', 'ratio': 0.33889}, {'period': '2020-06-01', 'ratio': 0.0628}, {'period': '2020-07-01', 'ratio': 0.11186}, {'period': '2020-08-01', 'ratio': 0.08234}, {'period': '2020-09-01', 'ratio': 0.06389}, {'period': '2020-10-01', 'ratio': 0.06113}, {'period': '2020-11-01', 'ratio': 0.09402}, {'period': '2020-12-01', 'ratio': 0.09918}, {'period': '2021-01-01', 'ratio': 1.85273}, {'period': '2021-02-01', 'ratio': 0.16163}, {'period': '2021-03-01', 'ratio': 0.27554}, {'period': '2021-04-01', 'ratio': 0.32512}, {'period': '2021-05-01', 'ratio': 0.49554}, {'period': '2021-06-01', 'ratio': 0.99815}, {'period': '2021-07-01', 'ratio': 45.25766}, {'period': '2021-08-01', 'ratio': 23.27291}, {'period': '2021-09-01', 'ratio': 0.1594}, {'period': '2021-10-01', 'ratio': 0.06003}, {'period': '2021-11-01', 'ratio': 0.04302}, {'period': '2021-12-01', 'ratio': 0.03839}, {'period': '2022-01-01', 'ratio': 0.04964}, {'period': '2022-02-01', 'ratio': 0.29076}, {'period': '2022-03-01', 'ratio': 0.034}, {'period': '2022-04-01', 'ratio': 0.0219}]}]}\n"
          ]
        }
      ]
    },
    {
      "cell_type": "markdown",
      "source": [],
      "metadata": {
        "id": "oveXdHgxCboM"
      }
    },
    {
      "cell_type": "code",
      "source": [
        "import urllib.request\n",
        "import json\n",
        "import pandas as pd\n",
        "\n",
        "# 인증키의 클라이언트 아이디와 시크릿 설정\n",
        "client_id = \"0T1JOYIqKWNOC8o1_6pM\"\n",
        "client_secret = \"rkfbCrzxzA\"\n",
        "\n",
        "# 검색어와 검색 기간 설정\n",
        "query = \"검색어\"\n",
        "start_date = \"2023-01-01\"\n",
        "end_date = \"2023-03-31\"\n",
        "\n",
        "# 기간 단위, 성별/연령 구분 설정\n",
        "time_unit = \"date\"\n",
        "group_age = \"all\"\n",
        "group_gender = \"all\"\n",
        "\n",
        "# API 요청 URL, 헤더 설정\n",
        "url = \"https://openapi.naver.com/v1/datalab/search\"\n",
        "headers = {\n",
        "    \"X-Naver-Client-Id\": client_id,\n",
        "    \"X-Naver-Client-Secret\": client_secret,\n",
        "    \"Content-Type\": \"application/json\"\n",
        "}\n",
        "\n",
        "# API 요청 데이터 설정\n",
        "data = {\n",
        "    \"startDate\": start_date,\n",
        "    \"endDate\": end_date,\n",
        "    \"timeUnit\": time_unit,\n",
        "    \"keywordGroups\": [\n",
        "        {\"groupName\": query, \"keywords\": [query]}\n",
        "    ],\n",
        "    \"device\": \"\",\n",
        "    \"ages\": [group_age],\n",
        "    \"gender\": group_gender\n",
        "}\n",
        "\n",
        "# API 호출\n",
        "try:\n",
        "    request = urllib.request.Request(url, headers=headers)\n",
        "    response = urllib.request.urlopen(request, data=json.dumps(data).encode(\"utf-8\"))\n",
        "    response_body = json.loads(response.read().decode(\"utf-8\"))\n",
        "\n",
        "    # 결과 출력\n",
        "    df = pd.DataFrame(response_body['results'][0]['data'])\n",
        "    df['period'] = pd.to_datetime(df['period'])\n",
        "    df.set_index('period', inplace=True)\n",
        "    df.index.name = 'Date'\n",
        "    print(df)\n",
        "\n",
        "except Exception as e:\n",
        "    print(str(e))"
      ],
      "metadata": {
        "colab": {
          "base_uri": "https://localhost:8080/"
        },
        "id": "nwdesaNRCcG_",
        "outputId": "36cefca8-31f1-4a02-c4fd-fe58dd5e0eb3"
      },
      "execution_count": null,
      "outputs": [
        {
          "output_type": "stream",
          "name": "stdout",
          "text": [
            "HTTP Error 400: Bad Request\n"
          ]
        }
      ]
    },
    {
      "cell_type": "code",
      "source": [
        "import urllib.request\n",
        "import json\n",
        "import pandas as pd\n",
        "\n",
        "client_id = \"0T1JOYIqKWNOC8o1_6pM\" # 인증키의 클라이언트 아이디\n",
        "client_secret = \"rkfbCrzxzA\" # 인증키의 클라이언트 시크릿\n",
        "query = \"검색어\" # 검색어\n",
        "start_date = \"2022-01-01\" # 검색 기간 시작일\n",
        "end_date = \"2022-03-31\" # 검색 기간 종료일\n",
        "time_unit = \"date\" # 기간 단위 (date, week, month)\n",
        "group_age = \"all\" # 성별/연령 구분 (all, 10, 20, 30, 40, 50, 60)\n",
        "group_gender = \"all\" # 성별 구분 (all, m, f)\n",
        "url = \"https://openapi.naver.com/v1/datalab/search\"\n",
        "\n",
        "headers = {\n",
        "    \"X-Naver-Client-Id\": client_id,\n",
        "    \"X-Naver-Client-Secret\": client_secret,\n",
        "    \"Content-Type\": \"application/json\"\n",
        "}\n",
        "\n",
        "data = {\n",
        "    \"startDate\": start_date,\n",
        "    \"endDate\": end_date,\n",
        "    \"timeUnit\": time_unit,\n",
        "    \"keywordGroups\": [\n",
        "        {\"groupName\": query, \"keywords\": [query]}\n",
        "    ],\n",
        "    \"device\": \"\",\n",
        "    \"ages\": [group_age],\n",
        "    \"gender\": group_gender\n",
        "}\n",
        "\n",
        "try:\n",
        "    # 데이터 랩 API 호출\n",
        "    request = urllib.request.Request(url, headers=headers)\n",
        "    response = urllib.request.urlopen(request, data=json.dumps(data).encode(\"utf-8\"))\n",
        "\n",
        "    # API 호출 결과 확인\n",
        "    response_body = json.loads(response.read().decode(\"utf-8\"))\n",
        "\n",
        "    # 에러 메시지 확인\n",
        "    if 'errorCode' in response_body:\n",
        "        print(response_body['errorMessage'])\n",
        "    else:\n",
        "        # 데이터프레임 생성\n",
        "        df = pd.DataFrame(response_body['results'][0]['data'])\n",
        "        df['period'] = pd.to_datetime(df['period'])\n",
        "        df.set_index('period', inplace=True)\n",
        "        print(df)\n",
        "except Exception as e:\n",
        "    print(str(e))"
      ],
      "metadata": {
        "colab": {
          "base_uri": "https://localhost:8080/"
        },
        "id": "aTkWvPfzDVwJ",
        "outputId": "84806674-9d8c-489b-ede6-f2305da42906"
      },
      "execution_count": null,
      "outputs": [
        {
          "output_type": "stream",
          "name": "stdout",
          "text": [
            "HTTP Error 400: Bad Request\n"
          ]
        }
      ]
    },
    {
      "cell_type": "markdown",
      "source": [],
      "metadata": {
        "id": "k4x1ebSeCeAm"
      }
    },
    {
      "cell_type": "code",
      "source": [
        "import urllib.request\n",
        "import json\n",
        "\n",
        "client_id = \"0T1JOYIqKWNOC8o1_6pM\"\n",
        "client_secret = \"rkfbCrzxzA\"\n",
        "url = \"https://openapi.naver.com/v1/datalab/search\"\n",
        "headers = {\n",
        "    \"X-Naver-Client-Id\": client_id,\n",
        "    \"X-Naver-Client-Secret\": client_secret,\n",
        "    \"Content-Type\": \"application/json\"\n",
        "}\n",
        "\n",
        "data = {\n",
        "    \"startDate\": \"2016-01-01\",\n",
        "    \"endDate\": \"2022-04-02\",\n",
        "    \"timeUnit\": \"month\",\n",
        "    \"keywordGroups\": [\n",
        "        {\"groupName\": \"코로나\", \"keywords\": [\"코로나\", \"covid-19\", \"코로나바이러스\"]},\n",
        "        {\"groupName\": \"올림픽\", \"keywords\": [\"도쿄올림픽\", \"olympic\", \"올림픽 개최 국가\"]}\n",
        "    ]\n",
        "}\n",
        "\n",
        "try:\n",
        "    # 데이터 랩 API 호출\n",
        "    request = urllib.request.Request(url, headers=headers)\n",
        "    response = urllib.request.urlopen(request, data=json.dumps(data).encode(\"utf-8\"))\n",
        "\n",
        "    # API 호출 결과 확인\n",
        "    response_body = json.loads(response.read().decode(\"utf-8\"))\n",
        "    print(response_body)\n",
        "except Exception as e:\n",
        "    print(str(e))\n"
      ],
      "metadata": {
        "colab": {
          "base_uri": "https://localhost:8080/"
        },
        "id": "y1L7JiLJBUZf",
        "outputId": "564d0847-d435-4a44-aaca-93f6a35899ec"
      },
      "execution_count": null,
      "outputs": [
        {
          "output_type": "stream",
          "name": "stdout",
          "text": [
            "{'startDate': '2016-01-01', 'endDate': '2022-04-30', 'timeUnit': 'month', 'results': [{'title': '코로나', 'keywords': ['코로나', 'covid-19', '코로나바이러스'], 'data': [{'period': '2016-01-01', 'ratio': 0.0279}, {'period': '2016-02-01', 'ratio': 0.02437}, {'period': '2016-03-01', 'ratio': 0.02857}, {'period': '2016-04-01', 'ratio': 0.02861}, {'period': '2016-05-01', 'ratio': 0.0284}, {'period': '2016-06-01', 'ratio': 0.04926}, {'period': '2016-07-01', 'ratio': 0.02883}, {'period': '2016-08-01', 'ratio': 0.09398}, {'period': '2016-09-01', 'ratio': 0.10802}, {'period': '2016-10-01', 'ratio': 0.05582}, {'period': '2016-11-01', 'ratio': 0.13275}, {'period': '2016-12-01', 'ratio': 0.04123}, {'period': '2017-01-01', 'ratio': 0.03311}, {'period': '2017-02-01', 'ratio': 0.02621}, {'period': '2017-03-01', 'ratio': 0.03166}, {'period': '2017-04-01', 'ratio': 0.03071}, {'period': '2017-05-01', 'ratio': 0.03194}, {'period': '2017-06-01', 'ratio': 0.03644}, {'period': '2017-07-01', 'ratio': 0.03437}, {'period': '2017-08-01', 'ratio': 0.04046}, {'period': '2017-09-01', 'ratio': 0.03285}, {'period': '2017-10-01', 'ratio': 0.02796}, {'period': '2017-11-01', 'ratio': 0.02736}, {'period': '2017-12-01', 'ratio': 0.0298}, {'period': '2018-01-01', 'ratio': 0.03084}, {'period': '2018-02-01', 'ratio': 0.02588}, {'period': '2018-03-01', 'ratio': 0.02654}, {'period': '2018-04-01', 'ratio': 0.02592}, {'period': '2018-05-01', 'ratio': 0.02746}, {'period': '2018-06-01', 'ratio': 0.03608}, {'period': '2018-07-01', 'ratio': 0.03316}, {'period': '2018-08-01', 'ratio': 0.03472}, {'period': '2018-09-01', 'ratio': 0.03377}, {'period': '2018-10-01', 'ratio': 0.03118}, {'period': '2018-11-01', 'ratio': 0.10118}, {'period': '2018-12-01', 'ratio': 0.0359}, {'period': '2019-01-01', 'ratio': 0.02947}, {'period': '2019-02-01', 'ratio': 0.02326}, {'period': '2019-03-01', 'ratio': 0.02508}, {'period': '2019-04-01', 'ratio': 0.03069}, {'period': '2019-05-01', 'ratio': 0.02733}, {'period': '2019-06-01', 'ratio': 0.03208}, {'period': '2019-07-01', 'ratio': 0.03176}, {'period': '2019-08-01', 'ratio': 0.02962}, {'period': '2019-09-01', 'ratio': 0.03064}, {'period': '2019-10-01', 'ratio': 0.02732}, {'period': '2019-11-01', 'ratio': 0.02738}, {'period': '2019-12-01', 'ratio': 0.03041}, {'period': '2020-01-01', 'ratio': 15.99916}, {'period': '2020-02-01', 'ratio': 98.54893}, {'period': '2020-03-01', 'ratio': 100}, {'period': '2020-04-01', 'ratio': 38.1885}, {'period': '2020-05-01', 'ratio': 33.71645}, {'period': '2020-06-01', 'ratio': 20.20777}, {'period': '2020-07-01', 'ratio': 14.39235}, {'period': '2020-08-01', 'ratio': 47.91773}, {'period': '2020-09-01', 'ratio': 32.50627}, {'period': '2020-10-01', 'ratio': 21.5724}, {'period': '2020-11-01', 'ratio': 42.97219}, {'period': '2020-12-01', 'ratio': 73.23473}, {'period': '2021-01-01', 'ratio': 33.57299}, {'period': '2021-02-01', 'ratio': 18.58978}, {'period': '2021-03-01', 'ratio': 13.09647}, {'period': '2021-04-01', 'ratio': 17.2334}, {'period': '2021-05-01', 'ratio': 9.06915}, {'period': '2021-06-01', 'ratio': 7.8914}, {'period': '2021-07-01', 'ratio': 32.5545}, {'period': '2021-08-01', 'ratio': 18.31582}, {'period': '2021-09-01', 'ratio': 11.66305}, {'period': '2021-10-01', 'ratio': 8.10027}, {'period': '2021-11-01', 'ratio': 11.21222}, {'period': '2021-12-01', 'ratio': 19.7724}, {'period': '2022-01-01', 'ratio': 11.97674}, {'period': '2022-02-01', 'ratio': 23.70625}, {'period': '2022-03-01', 'ratio': 18.75036}, {'period': '2022-04-01', 'ratio': 8.77212}]}, {'title': '올림픽', 'keywords': ['도쿄올림픽', 'olympic', '올림픽 개최 국가'], 'data': [{'period': '2016-01-01', 'ratio': 0.00912}, {'period': '2016-02-01', 'ratio': 0.00586}, {'period': '2016-03-01', 'ratio': 0.00644}, {'period': '2016-04-01', 'ratio': 0.007}, {'period': '2016-05-01', 'ratio': 0.00952}, {'period': '2016-06-01', 'ratio': 0.01057}, {'period': '2016-07-01', 'ratio': 0.01149}, {'period': '2016-08-01', 'ratio': 0.20306}, {'period': '2016-09-01', 'ratio': 0.0162}, {'period': '2016-10-01', 'ratio': 0.01916}, {'period': '2016-11-01', 'ratio': 0.01187}, {'period': '2016-12-01', 'ratio': 0.01073}, {'period': '2017-01-01', 'ratio': 0.01192}, {'period': '2017-02-01', 'ratio': 0.01466}, {'period': '2017-03-01', 'ratio': 0.01277}, {'period': '2017-04-01', 'ratio': 0.01015}, {'period': '2017-05-01', 'ratio': 0.01294}, {'period': '2017-06-01', 'ratio': 0.01753}, {'period': '2017-07-01', 'ratio': 0.01604}, {'period': '2017-08-01', 'ratio': 0.01453}, {'period': '2017-09-01', 'ratio': 0.01442}, {'period': '2017-10-01', 'ratio': 0.01402}, {'period': '2017-11-01', 'ratio': 0.02103}, {'period': '2017-12-01', 'ratio': 0.02517}, {'period': '2018-01-01', 'ratio': 0.03583}, {'period': '2018-02-01', 'ratio': 0.10699}, {'period': '2018-03-01', 'ratio': 0.03039}, {'period': '2018-04-01', 'ratio': 0.01052}, {'period': '2018-05-01', 'ratio': 0.00979}, {'period': '2018-06-01', 'ratio': 0.01421}, {'period': '2018-07-01', 'ratio': 0.0146}, {'period': '2018-08-01', 'ratio': 0.02164}, {'period': '2018-09-01', 'ratio': 0.03158}, {'period': '2018-10-01', 'ratio': 0.01485}, {'period': '2018-11-01', 'ratio': 0.01313}, {'period': '2018-12-01', 'ratio': 0.01149}, {'period': '2019-01-01', 'ratio': 0.02037}, {'period': '2019-02-01', 'ratio': 0.01622}, {'period': '2019-03-01', 'ratio': 0.02132}, {'period': '2019-04-01', 'ratio': 0.02143}, {'period': '2019-05-01', 'ratio': 0.02458}, {'period': '2019-06-01', 'ratio': 0.05944}, {'period': '2019-07-01', 'ratio': 0.08372}, {'period': '2019-08-01', 'ratio': 0.18725}, {'period': '2019-09-01', 'ratio': 0.07927}, {'period': '2019-10-01', 'ratio': 0.0688}, {'period': '2019-11-01', 'ratio': 0.08523}, {'period': '2019-12-01', 'ratio': 0.06953}, {'period': '2020-01-01', 'ratio': 0.38814}, {'period': '2020-02-01', 'ratio': 0.27137}, {'period': '2020-03-01', 'ratio': 2.06874}, {'period': '2020-04-01', 'ratio': 0.0385}, {'period': '2020-05-01', 'ratio': 0.33889}, {'period': '2020-06-01', 'ratio': 0.0628}, {'period': '2020-07-01', 'ratio': 0.11186}, {'period': '2020-08-01', 'ratio': 0.08234}, {'period': '2020-09-01', 'ratio': 0.06389}, {'period': '2020-10-01', 'ratio': 0.06113}, {'period': '2020-11-01', 'ratio': 0.09402}, {'period': '2020-12-01', 'ratio': 0.09918}, {'period': '2021-01-01', 'ratio': 1.85273}, {'period': '2021-02-01', 'ratio': 0.16163}, {'period': '2021-03-01', 'ratio': 0.27554}, {'period': '2021-04-01', 'ratio': 0.32512}, {'period': '2021-05-01', 'ratio': 0.49554}, {'period': '2021-06-01', 'ratio': 0.99815}, {'period': '2021-07-01', 'ratio': 45.25766}, {'period': '2021-08-01', 'ratio': 23.27291}, {'period': '2021-09-01', 'ratio': 0.1594}, {'period': '2021-10-01', 'ratio': 0.06003}, {'period': '2021-11-01', 'ratio': 0.04302}, {'period': '2021-12-01', 'ratio': 0.03839}, {'period': '2022-01-01', 'ratio': 0.04964}, {'period': '2022-02-01', 'ratio': 0.29076}, {'period': '2022-03-01', 'ratio': 0.034}, {'period': '2022-04-01', 'ratio': 0.0219}]}]}\n"
          ]
        }
      ]
    },
    {
      "cell_type": "markdown",
      "source": [],
      "metadata": {
        "id": "qGkEYzjcEmBc"
      }
    },
    {
      "cell_type": "code",
      "source": [
        "import urllib.request\n",
        "import json\n",
        "\n",
        "client_id = \"0T1JOYIqKWNOC8o1_6pM\"\n",
        "client_secret = \"rkfbCrzxzA\"\n",
        "url = \"https://openapi.naver.com/v1/datalab/search\"\n",
        "headers = {\n",
        "    \"X-Naver-Client-Id\": client_id,\n",
        "    \"X-Naver-Client-Secret\": client_secret,\n",
        "    \"Content-Type\": \"application/json\"\n",
        "}\n",
        "query = \"한글, 영어\"  # 쉼표로 구분하여 여러 검색어를 입력할 수 있습니다.\n",
        "start_date = \"2017-01-01\"\n",
        "end_date = \"2017-04-30\"\n",
        "time_unit = \"month\"\n",
        "group_age = \"all\"\n",
        "group_gender = \"f\"\n",
        "\n",
        "data = {\n",
        "    \"startDate\": start_date,\n",
        "    \"endDate\": end_date,\n",
        "    \"timeUnit\": time_unit,\n",
        "    \"keywordGroups\": [\n",
        "        {\"groupName\": \"한글\", \"keywords\": [\"한글\", \"korean\"]},\n",
        "        {\"groupName\": \"영어\", \"keywords\": [\"영어\", \"english\"]}\n",
        "    ],\n",
        "    \"device\": \"pc\",\n",
        "    \"ages\": [group_age],\n",
        "    \"gender\": group_gender\n",
        "}\n",
        "\n",
        "try:\n",
        "    # 데이터 랩 API 호출\n",
        "    request = urllib.request.Request(url, headers=headers, data=json.dumps(data).encode(\"utf-8\"))\n",
        "    response = urllib.request.urlopen(request)\n",
        "\n",
        "    # API 호출 결과 확인\n",
        "    response_body = json.loads(response.read().decode(\"utf-8\"))\n",
        "    print(response_body)\n",
        "except Exception as e:\n",
        "    print(str(e))\n"
      ],
      "metadata": {
        "id": "GjVm3v5oEjMe",
        "colab": {
          "base_uri": "https://localhost:8080/"
        },
        "outputId": "22713691-6684-4f24-9c2b-3d41980abdff"
      },
      "execution_count": null,
      "outputs": [
        {
          "output_type": "stream",
          "name": "stdout",
          "text": [
            "HTTP Error 400: Bad Request\n"
          ]
        }
      ]
    },
    {
      "cell_type": "code",
      "source": [
        "import os\n",
        "import sys\n",
        "import urllib.request\n",
        "import json\n",
        "\n",
        "client_id = \"0T1JOYIqKWNOC8o1_6pM\"\n",
        "client_secret = \"rkfbCrzxzA\"\n",
        "url = \"https://openapi.naver.com/v1/datalab/search\"\n",
        "\n",
        "body = {\n",
        "    \"startDate\": \"2017-01-01\",\n",
        "    \"endDate\": \"2017-04-30\",\n",
        "    \"timeUnit\": \"month\",\n",
        "    \"keywordGroups\": [\n",
        "        {\"groupName\": \"한글\", \"keywords\": [\"한글\", \"korean\"]},\n",
        "        {\"groupName\": \"영어\", \"keywords\": [\"영어\", \"english\"]}\n",
        "    ],\n",
        "    \"device\": \"pc\",\n",
        "    \"ages\": [\"1\", \"2\"],\n",
        "    \"gender\": \"f\"\n",
        "}\n",
        "\n",
        "request_body = json.dumps(body)\n",
        "\n",
        "request = urllib.request.Request(url)\n",
        "request.add_header(\"X-Naver-Client-Id\", client_id)\n",
        "request.add_header(\"X-Naver-Client-Secret\", client_secret)\n",
        "request.add_header(\"Content-Type\", \"application/json\")\n",
        "response = urllib.request.urlopen(request, data=request_body.encode(\"utf-8\"))\n",
        "\n",
        "rescode = response.getcode()\n",
        "if rescode == 200:\n",
        "    response_body = response.read()\n",
        "    print(response_body.decode('utf-8'))\n",
        "else:\n",
        "    print(\"Error Code: \" + str(rescode))\n"
      ],
      "metadata": {
        "colab": {
          "base_uri": "https://localhost:8080/"
        },
        "id": "Nllws6w5nhDo",
        "outputId": "f4e0842a-038a-4425-859a-07c4c1932cd1"
      },
      "execution_count": null,
      "outputs": [
        {
          "output_type": "stream",
          "name": "stdout",
          "text": [
            "{\"startDate\":\"2017-01-01\",\"endDate\":\"2017-04-30\",\"timeUnit\":\"month\",\"results\":[{\"title\":\"한글\",\"keywords\":[\"한글\",\"korean\"],\"data\":[{\"period\":\"2017-01-01\",\"ratio\":47.00101},{\"period\":\"2017-02-01\",\"ratio\":53.23619},{\"period\":\"2017-03-01\",\"ratio\":100},{\"period\":\"2017-04-01\",\"ratio\":85.327}]},{\"title\":\"영어\",\"keywords\":[\"영어\",\"english\"],\"data\":[{\"period\":\"2017-01-01\",\"ratio\":40.0881},{\"period\":\"2017-02-01\",\"ratio\":36.69942},{\"period\":\"2017-03-01\",\"ratio\":52.11792},{\"period\":\"2017-04-01\",\"ratio\":44.4595}]}]}\n"
          ]
        }
      ]
    },
    {
      "cell_type": "code",
      "source": [
        "import pandas as pd\n",
        "import urllib.request\n",
        "import json\n",
        "\n",
        "client_id = \"0T1JOYIqKWNOC8o1_6pM\"\n",
        "client_secret = \"rkfbCrzxzA\"\n",
        "url = \"https://openapi.naver.com/v1/datalab/search\"\n",
        "headers = {\n",
        "    \"Content-Type\": \"application/json\",\n",
        "    \"X-Naver-Client-Id\": client_id,\n",
        "    \"X-Naver-Client-Secret\": client_secret\n",
        "}\n",
        "data = {\n",
        "    \"startDate\": \"20220101\",\n",
        "    \"endDate\": \"20220331\",\n",
        "    \"timeUnit\": \"date\",\n",
        "    \"keywordGroups\": [\n",
        "        {\"groupName\": \"검색어\", \"keywords\": [\"검색어\"]}\n",
        "    ],\n",
        "    \"device\": \"\",\n",
        "    \"ages\": [\"10\", \"20\", \"30\", \"40\", \"50\", \"60\"],\n",
        "    \"gender\": \"male\"\n",
        "}\n",
        "try:\n",
        "    # 데이터 랩 API 호출\n",
        "    request = urllib.request.Request(url, headers=headers)\n",
        "    response = urllib.request.urlopen(request, data=json.dumps(data).encode(\"utf-8\"))\n",
        "\n",
        "    # API 호출 결과 확인\n",
        "    response_body = json.loads(response.read().decode(\"utf-8\"))\n",
        "    df = pd.DataFrame(response_body['results'][0]['data'])\n",
        "    print(df)\n",
        "\n",
        "except Exception as e:\n",
        "    print(str(e))\n",
        "\n"
      ],
      "metadata": {
        "colab": {
          "base_uri": "https://localhost:8080/"
        },
        "id": "_qZ8n__joLYE",
        "outputId": "0a0c2ec7-5aa0-481a-ba2a-cbdb4eaa1899"
      },
      "execution_count": null,
      "outputs": [
        {
          "output_type": "stream",
          "name": "stdout",
          "text": [
            "HTTP Error 400: Bad Request\n"
          ]
        }
      ]
    },
    {
      "cell_type": "code",
      "source": [
        "import urllib.request\n",
        "import json\n",
        "import pandas as pd\n",
        "\n",
        "client_id = \"0T1JOYIqKWNOC8o1_6pM\"\n",
        "client_secret = \"rkfbCrzxzA\"\n",
        "query = \"검색어\" # 검색어\n",
        "start_date = \"2022-01-01\" # 검색 기간 시작일\n",
        "end_date = \"2022-03-31\" # 검색 기간 종료일\n",
        "time_unit = \"date\" # 기간 단위 (date, week, month)\n",
        "group_age = \"all\" # 성별/연령 구분 (all, 10, 20, 30, 40, 50, 60)\n",
        "group_gender = \"all\" # 성별 구분 (all, m, f)\n",
        "url = \"https://openapi.naver.com/v1/datalab/search\"\n",
        "headers = {\n",
        "    \"X-Naver-Client-Id\": client_id,\n",
        "    \"X-Naver-Client-Secret\": client_secret,\n",
        "    \"Content-Type\": \"application/json\"\n",
        "}\n",
        "\n",
        "data = {\n",
        "    \"startDate\": start_date,\n",
        "    \"endDate\": end_date,\n",
        "    \"timeUnit\": time_unit,\n",
        "    \"keywordGroups\": [\n",
        "        {\"groupName\": query, \"keywords\": [query]}\n",
        "    ],\n",
        "    \"device\": \"\",\n",
        "    \"ages\": [group_age],\n",
        "    \"gender\": group_gender\n",
        "}\n",
        "\n",
        "# 데이터 랩 API 호출\n",
        "request = urllib.request.Request(url, headers=headers, data=json.dumps(data).encode(\"utf-8\"))\n",
        "response = urllib.request.urlopen(request)\n",
        "\n",
        "# API 호출 결과 확인\n",
        "response_body = json.loads(response.read().decode('utf-8'))\n",
        "\n",
        "# Pandas를 이용해 데이터 정리\n",
        "df = pd.DataFrame(response_body['results'][0]['data'])\n",
        "df['period'] = pd.to_datetime(df['period'])\n",
        "df = df.set_index('period')\n",
        "\n",
        "print(df.head())\n"
      ],
      "metadata": {
        "colab": {
          "base_uri": "https://localhost:8080/",
          "height": 1000
        },
        "id": "9dulquqaqpUc",
        "outputId": "35565311-8279-41b3-8cae-308977dc378b"
      },
      "execution_count": null,
      "outputs": [
        {
          "output_type": "error",
          "ename": "HTTPError",
          "evalue": "ignored",
          "traceback": [
            "\u001b[0;31m---------------------------------------------------------------------------\u001b[0m",
            "\u001b[0;31mHTTPError\u001b[0m                                 Traceback (most recent call last)",
            "\u001b[0;32m<ipython-input-17-61b3be5e7499>\u001b[0m in \u001b[0;36m<cell line: 34>\u001b[0;34m()\u001b[0m\n\u001b[1;32m     32\u001b[0m \u001b[0;31m# 데이터 랩 API 호출\u001b[0m\u001b[0;34m\u001b[0m\u001b[0;34m\u001b[0m\u001b[0m\n\u001b[1;32m     33\u001b[0m \u001b[0mrequest\u001b[0m \u001b[0;34m=\u001b[0m \u001b[0murllib\u001b[0m\u001b[0;34m.\u001b[0m\u001b[0mrequest\u001b[0m\u001b[0;34m.\u001b[0m\u001b[0mRequest\u001b[0m\u001b[0;34m(\u001b[0m\u001b[0murl\u001b[0m\u001b[0;34m,\u001b[0m \u001b[0mheaders\u001b[0m\u001b[0;34m=\u001b[0m\u001b[0mheaders\u001b[0m\u001b[0;34m,\u001b[0m \u001b[0mdata\u001b[0m\u001b[0;34m=\u001b[0m\u001b[0mjson\u001b[0m\u001b[0;34m.\u001b[0m\u001b[0mdumps\u001b[0m\u001b[0;34m(\u001b[0m\u001b[0mdata\u001b[0m\u001b[0;34m)\u001b[0m\u001b[0;34m.\u001b[0m\u001b[0mencode\u001b[0m\u001b[0;34m(\u001b[0m\u001b[0;34m\"utf-8\"\u001b[0m\u001b[0;34m)\u001b[0m\u001b[0;34m)\u001b[0m\u001b[0;34m\u001b[0m\u001b[0;34m\u001b[0m\u001b[0m\n\u001b[0;32m---> 34\u001b[0;31m \u001b[0mresponse\u001b[0m \u001b[0;34m=\u001b[0m \u001b[0murllib\u001b[0m\u001b[0;34m.\u001b[0m\u001b[0mrequest\u001b[0m\u001b[0;34m.\u001b[0m\u001b[0murlopen\u001b[0m\u001b[0;34m(\u001b[0m\u001b[0mrequest\u001b[0m\u001b[0;34m)\u001b[0m\u001b[0;34m\u001b[0m\u001b[0;34m\u001b[0m\u001b[0m\n\u001b[0m\u001b[1;32m     35\u001b[0m \u001b[0;34m\u001b[0m\u001b[0m\n\u001b[1;32m     36\u001b[0m \u001b[0;31m# API 호출 결과 확인\u001b[0m\u001b[0;34m\u001b[0m\u001b[0;34m\u001b[0m\u001b[0m\n",
            "\u001b[0;32m/usr/lib/python3.9/urllib/request.py\u001b[0m in \u001b[0;36murlopen\u001b[0;34m(url, data, timeout, cafile, capath, cadefault, context)\u001b[0m\n\u001b[1;32m    212\u001b[0m     \u001b[0;32melse\u001b[0m\u001b[0;34m:\u001b[0m\u001b[0;34m\u001b[0m\u001b[0;34m\u001b[0m\u001b[0m\n\u001b[1;32m    213\u001b[0m         \u001b[0mopener\u001b[0m \u001b[0;34m=\u001b[0m \u001b[0m_opener\u001b[0m\u001b[0;34m\u001b[0m\u001b[0;34m\u001b[0m\u001b[0m\n\u001b[0;32m--> 214\u001b[0;31m     \u001b[0;32mreturn\u001b[0m \u001b[0mopener\u001b[0m\u001b[0;34m.\u001b[0m\u001b[0mopen\u001b[0m\u001b[0;34m(\u001b[0m\u001b[0murl\u001b[0m\u001b[0;34m,\u001b[0m \u001b[0mdata\u001b[0m\u001b[0;34m,\u001b[0m \u001b[0mtimeout\u001b[0m\u001b[0;34m)\u001b[0m\u001b[0;34m\u001b[0m\u001b[0;34m\u001b[0m\u001b[0m\n\u001b[0m\u001b[1;32m    215\u001b[0m \u001b[0;34m\u001b[0m\u001b[0m\n\u001b[1;32m    216\u001b[0m \u001b[0;32mdef\u001b[0m \u001b[0minstall_opener\u001b[0m\u001b[0;34m(\u001b[0m\u001b[0mopener\u001b[0m\u001b[0;34m)\u001b[0m\u001b[0;34m:\u001b[0m\u001b[0;34m\u001b[0m\u001b[0;34m\u001b[0m\u001b[0m\n",
            "\u001b[0;32m/usr/lib/python3.9/urllib/request.py\u001b[0m in \u001b[0;36mopen\u001b[0;34m(self, fullurl, data, timeout)\u001b[0m\n\u001b[1;32m    521\u001b[0m         \u001b[0;32mfor\u001b[0m \u001b[0mprocessor\u001b[0m \u001b[0;32min\u001b[0m \u001b[0mself\u001b[0m\u001b[0;34m.\u001b[0m\u001b[0mprocess_response\u001b[0m\u001b[0;34m.\u001b[0m\u001b[0mget\u001b[0m\u001b[0;34m(\u001b[0m\u001b[0mprotocol\u001b[0m\u001b[0;34m,\u001b[0m \u001b[0;34m[\u001b[0m\u001b[0;34m]\u001b[0m\u001b[0;34m)\u001b[0m\u001b[0;34m:\u001b[0m\u001b[0;34m\u001b[0m\u001b[0;34m\u001b[0m\u001b[0m\n\u001b[1;32m    522\u001b[0m             \u001b[0mmeth\u001b[0m \u001b[0;34m=\u001b[0m \u001b[0mgetattr\u001b[0m\u001b[0;34m(\u001b[0m\u001b[0mprocessor\u001b[0m\u001b[0;34m,\u001b[0m \u001b[0mmeth_name\u001b[0m\u001b[0;34m)\u001b[0m\u001b[0;34m\u001b[0m\u001b[0;34m\u001b[0m\u001b[0m\n\u001b[0;32m--> 523\u001b[0;31m             \u001b[0mresponse\u001b[0m \u001b[0;34m=\u001b[0m \u001b[0mmeth\u001b[0m\u001b[0;34m(\u001b[0m\u001b[0mreq\u001b[0m\u001b[0;34m,\u001b[0m \u001b[0mresponse\u001b[0m\u001b[0;34m)\u001b[0m\u001b[0;34m\u001b[0m\u001b[0;34m\u001b[0m\u001b[0m\n\u001b[0m\u001b[1;32m    524\u001b[0m \u001b[0;34m\u001b[0m\u001b[0m\n\u001b[1;32m    525\u001b[0m         \u001b[0;32mreturn\u001b[0m \u001b[0mresponse\u001b[0m\u001b[0;34m\u001b[0m\u001b[0;34m\u001b[0m\u001b[0m\n",
            "\u001b[0;32m/usr/lib/python3.9/urllib/request.py\u001b[0m in \u001b[0;36mhttp_response\u001b[0;34m(self, request, response)\u001b[0m\n\u001b[1;32m    630\u001b[0m         \u001b[0;31m# request was successfully received, understood, and accepted.\u001b[0m\u001b[0;34m\u001b[0m\u001b[0;34m\u001b[0m\u001b[0m\n\u001b[1;32m    631\u001b[0m         \u001b[0;32mif\u001b[0m \u001b[0;32mnot\u001b[0m \u001b[0;34m(\u001b[0m\u001b[0;36m200\u001b[0m \u001b[0;34m<=\u001b[0m \u001b[0mcode\u001b[0m \u001b[0;34m<\u001b[0m \u001b[0;36m300\u001b[0m\u001b[0;34m)\u001b[0m\u001b[0;34m:\u001b[0m\u001b[0;34m\u001b[0m\u001b[0;34m\u001b[0m\u001b[0m\n\u001b[0;32m--> 632\u001b[0;31m             response = self.parent.error(\n\u001b[0m\u001b[1;32m    633\u001b[0m                 'http', request, response, code, msg, hdrs)\n\u001b[1;32m    634\u001b[0m \u001b[0;34m\u001b[0m\u001b[0m\n",
            "\u001b[0;32m/usr/lib/python3.9/urllib/request.py\u001b[0m in \u001b[0;36merror\u001b[0;34m(self, proto, *args)\u001b[0m\n\u001b[1;32m    559\u001b[0m         \u001b[0;32mif\u001b[0m \u001b[0mhttp_err\u001b[0m\u001b[0;34m:\u001b[0m\u001b[0;34m\u001b[0m\u001b[0;34m\u001b[0m\u001b[0m\n\u001b[1;32m    560\u001b[0m             \u001b[0margs\u001b[0m \u001b[0;34m=\u001b[0m \u001b[0;34m(\u001b[0m\u001b[0mdict\u001b[0m\u001b[0;34m,\u001b[0m \u001b[0;34m'default'\u001b[0m\u001b[0;34m,\u001b[0m \u001b[0;34m'http_error_default'\u001b[0m\u001b[0;34m)\u001b[0m \u001b[0;34m+\u001b[0m \u001b[0morig_args\u001b[0m\u001b[0;34m\u001b[0m\u001b[0;34m\u001b[0m\u001b[0m\n\u001b[0;32m--> 561\u001b[0;31m             \u001b[0;32mreturn\u001b[0m \u001b[0mself\u001b[0m\u001b[0;34m.\u001b[0m\u001b[0m_call_chain\u001b[0m\u001b[0;34m(\u001b[0m\u001b[0;34m*\u001b[0m\u001b[0margs\u001b[0m\u001b[0;34m)\u001b[0m\u001b[0;34m\u001b[0m\u001b[0;34m\u001b[0m\u001b[0m\n\u001b[0m\u001b[1;32m    562\u001b[0m \u001b[0;34m\u001b[0m\u001b[0m\n\u001b[1;32m    563\u001b[0m \u001b[0;31m# XXX probably also want an abstract factory that knows when it makes\u001b[0m\u001b[0;34m\u001b[0m\u001b[0;34m\u001b[0m\u001b[0m\n",
            "\u001b[0;32m/usr/lib/python3.9/urllib/request.py\u001b[0m in \u001b[0;36m_call_chain\u001b[0;34m(self, chain, kind, meth_name, *args)\u001b[0m\n\u001b[1;32m    492\u001b[0m         \u001b[0;32mfor\u001b[0m \u001b[0mhandler\u001b[0m \u001b[0;32min\u001b[0m \u001b[0mhandlers\u001b[0m\u001b[0;34m:\u001b[0m\u001b[0;34m\u001b[0m\u001b[0;34m\u001b[0m\u001b[0m\n\u001b[1;32m    493\u001b[0m             \u001b[0mfunc\u001b[0m \u001b[0;34m=\u001b[0m \u001b[0mgetattr\u001b[0m\u001b[0;34m(\u001b[0m\u001b[0mhandler\u001b[0m\u001b[0;34m,\u001b[0m \u001b[0mmeth_name\u001b[0m\u001b[0;34m)\u001b[0m\u001b[0;34m\u001b[0m\u001b[0;34m\u001b[0m\u001b[0m\n\u001b[0;32m--> 494\u001b[0;31m             \u001b[0mresult\u001b[0m \u001b[0;34m=\u001b[0m \u001b[0mfunc\u001b[0m\u001b[0;34m(\u001b[0m\u001b[0;34m*\u001b[0m\u001b[0margs\u001b[0m\u001b[0;34m)\u001b[0m\u001b[0;34m\u001b[0m\u001b[0;34m\u001b[0m\u001b[0m\n\u001b[0m\u001b[1;32m    495\u001b[0m             \u001b[0;32mif\u001b[0m \u001b[0mresult\u001b[0m \u001b[0;32mis\u001b[0m \u001b[0;32mnot\u001b[0m \u001b[0;32mNone\u001b[0m\u001b[0;34m:\u001b[0m\u001b[0;34m\u001b[0m\u001b[0;34m\u001b[0m\u001b[0m\n\u001b[1;32m    496\u001b[0m                 \u001b[0;32mreturn\u001b[0m \u001b[0mresult\u001b[0m\u001b[0;34m\u001b[0m\u001b[0;34m\u001b[0m\u001b[0m\n",
            "\u001b[0;32m/usr/lib/python3.9/urllib/request.py\u001b[0m in \u001b[0;36mhttp_error_default\u001b[0;34m(self, req, fp, code, msg, hdrs)\u001b[0m\n\u001b[1;32m    639\u001b[0m \u001b[0;32mclass\u001b[0m \u001b[0mHTTPDefaultErrorHandler\u001b[0m\u001b[0;34m(\u001b[0m\u001b[0mBaseHandler\u001b[0m\u001b[0;34m)\u001b[0m\u001b[0;34m:\u001b[0m\u001b[0;34m\u001b[0m\u001b[0;34m\u001b[0m\u001b[0m\n\u001b[1;32m    640\u001b[0m     \u001b[0;32mdef\u001b[0m \u001b[0mhttp_error_default\u001b[0m\u001b[0;34m(\u001b[0m\u001b[0mself\u001b[0m\u001b[0;34m,\u001b[0m \u001b[0mreq\u001b[0m\u001b[0;34m,\u001b[0m \u001b[0mfp\u001b[0m\u001b[0;34m,\u001b[0m \u001b[0mcode\u001b[0m\u001b[0;34m,\u001b[0m \u001b[0mmsg\u001b[0m\u001b[0;34m,\u001b[0m \u001b[0mhdrs\u001b[0m\u001b[0;34m)\u001b[0m\u001b[0;34m:\u001b[0m\u001b[0;34m\u001b[0m\u001b[0;34m\u001b[0m\u001b[0m\n\u001b[0;32m--> 641\u001b[0;31m         \u001b[0;32mraise\u001b[0m \u001b[0mHTTPError\u001b[0m\u001b[0;34m(\u001b[0m\u001b[0mreq\u001b[0m\u001b[0;34m.\u001b[0m\u001b[0mfull_url\u001b[0m\u001b[0;34m,\u001b[0m \u001b[0mcode\u001b[0m\u001b[0;34m,\u001b[0m \u001b[0mmsg\u001b[0m\u001b[0;34m,\u001b[0m \u001b[0mhdrs\u001b[0m\u001b[0;34m,\u001b[0m \u001b[0mfp\u001b[0m\u001b[0;34m)\u001b[0m\u001b[0;34m\u001b[0m\u001b[0;34m\u001b[0m\u001b[0m\n\u001b[0m\u001b[1;32m    642\u001b[0m \u001b[0;34m\u001b[0m\u001b[0m\n\u001b[1;32m    643\u001b[0m \u001b[0;32mclass\u001b[0m \u001b[0mHTTPRedirectHandler\u001b[0m\u001b[0;34m(\u001b[0m\u001b[0mBaseHandler\u001b[0m\u001b[0;34m)\u001b[0m\u001b[0;34m:\u001b[0m\u001b[0;34m\u001b[0m\u001b[0;34m\u001b[0m\u001b[0m\n",
            "\u001b[0;31mHTTPError\u001b[0m: HTTP Error 400: Bad Request"
          ]
        }
      ]
    },
    {
      "cell_type": "code",
      "source": [
        "import os\n",
        "import json\n",
        "import urllib.request\n",
        "\n",
        "# 데이터 랩 API 인증 정보 가져오기\n",
        "client_id = \"0T1JOYIqKWNOC8o1_6pM\"\n",
        "client_secret = \"rkfbCrzxzA\"\n",
        "\n",
        "# API 호출을 위한 URL 및 요청 변수 설정\n",
        "url = \"https://openapi.naver.com/v1/datalab/search\"\n",
        "headers = {\n",
        "    \"Content-Type\": \"application/json\",\n",
        "    \"X-Naver-Client-Id\": client_id,\n",
        "    \"X-Naver-Client-Secret\": client_secret\n",
        "}\n",
        "\n",
        "# 검색어 설정\n",
        "keywords = [\"스마트폰\", \"태블릿\", \"노트북\"]\n",
        "\n",
        "# 검색 기간 설정 (6개월)\n",
        "start_date = \"2023-01-01\"\n",
        "end_date = \"2023-03-31\"\n",
        "\n",
        "# 연령/성별 검색 비율 설정 (전체, 10대, 20대, 30대, 40대, 50대 이상 / 남성, 여성)\n",
        "age = [\"total\", \"10\", \"20\", \"30\", \"40\", \"50\"]\n",
        "gender = [\"m\", \"f\"]\n",
        "\n",
        "# 검색어 트렌드 분석 요청 변수 설정\n",
        "data = {\n",
        "    \"startDate\": start_date,\n",
        "    \"endDate\": end_date,\n",
        "    \"timeUnit\": \"month\",\n",
        "    \"keywordGroups\": [],\n",
        "    \"device\": \"\",\n",
        "    \"ages\": age,\n",
        "    \"gender\": gender\n",
        "}\n",
        "\n",
        "# 검색어 그룹별 검색어와 검색 비율 설정\n",
        "for keyword in keywords:\n",
        "    data[\"keywordGroups\"].append({\"groupName\": keyword, \"keywords\": [keyword]})\n",
        "\n",
        "# 데이터 랩 API 호출\n",
        "request = urllib.request.Request(url, headers=headers)\n",
        "response = urllib.request.urlopen(request, data=json.dumps(data).encode(\"utf-8\"))\n",
        "\n",
        "# API 호출 결과 확인\n",
        "result = json.loads(response.read().decode(\"utf-8\"))\n",
        "print(json.dumps(result, ensure_ascii=False, indent=2))\n",
        "\n",
        "# 검색어별 검색량 출력\n",
        "for data in result['results']:\n",
        "    print(f\"검색어: {data['title']}\")\n",
        "    for data in data['data']:\n",
        "        print(f\"기간: {data['period']}, 검색량: {data['ratio']}\")\n",
        "\n",
        "# 연령별/성별 검색 비율 출력\n",
        "for data in result['results']:\n",
        "    print(f\"검색어: {data['title']}\")\n",
        "    for data in data['data']:\n",
        "        print(f\"기간: {data['period']}\")\n",
        "        for gender_data in data['gender']:\n",
        "            print(f\"{gender_data['gender']}: {gender_data['ratio']}\")\n",
        "        for age_data in data['age']:\n",
        "            print(f\"{age_data['name']}: {age_data['ratio']}\")\n",
        "\n"
      ],
      "metadata": {
        "colab": {
          "base_uri": "https://localhost:8080/",
          "height": 397
        },
        "id": "dq21A2GemhhO",
        "outputId": "6eb27c5c-30ba-41c9-c1bd-45628bbb6104"
      },
      "execution_count": null,
      "outputs": [
        {
          "output_type": "error",
          "ename": "HTTPError",
          "evalue": "ignored",
          "traceback": [
            "\u001b[0;31m---------------------------------------------------------------------------\u001b[0m",
            "\u001b[0;31mHTTPError\u001b[0m                                 Traceback (most recent call last)",
            "\u001b[0;32m<ipython-input-4-583408a90af2>\u001b[0m in \u001b[0;36m<cell line: 45>\u001b[0;34m()\u001b[0m\n\u001b[1;32m     43\u001b[0m \u001b[0;31m# 데이터 랩 API 호출\u001b[0m\u001b[0;34m\u001b[0m\u001b[0;34m\u001b[0m\u001b[0m\n\u001b[1;32m     44\u001b[0m \u001b[0mrequest\u001b[0m \u001b[0;34m=\u001b[0m \u001b[0murllib\u001b[0m\u001b[0;34m.\u001b[0m\u001b[0mrequest\u001b[0m\u001b[0;34m.\u001b[0m\u001b[0mRequest\u001b[0m\u001b[0;34m(\u001b[0m\u001b[0murl\u001b[0m\u001b[0;34m,\u001b[0m \u001b[0mheaders\u001b[0m\u001b[0;34m=\u001b[0m\u001b[0mheaders\u001b[0m\u001b[0;34m)\u001b[0m\u001b[0;34m\u001b[0m\u001b[0;34m\u001b[0m\u001b[0m\n\u001b[0;32m---> 45\u001b[0;31m \u001b[0mresponse\u001b[0m \u001b[0;34m=\u001b[0m \u001b[0murllib\u001b[0m\u001b[0;34m.\u001b[0m\u001b[0mrequest\u001b[0m\u001b[0;34m.\u001b[0m\u001b[0murlopen\u001b[0m\u001b[0;34m(\u001b[0m\u001b[0mrequest\u001b[0m\u001b[0;34m,\u001b[0m \u001b[0mdata\u001b[0m\u001b[0;34m=\u001b[0m\u001b[0mjson\u001b[0m\u001b[0;34m.\u001b[0m\u001b[0mdumps\u001b[0m\u001b[0;34m(\u001b[0m\u001b[0mdata\u001b[0m\u001b[0;34m)\u001b[0m\u001b[0;34m.\u001b[0m\u001b[0mencode\u001b[0m\u001b[0;34m(\u001b[0m\u001b[0;34m\"utf-8\"\u001b[0m\u001b[0;34m)\u001b[0m\u001b[0;34m)\u001b[0m\u001b[0;34m\u001b[0m\u001b[0;34m\u001b[0m\u001b[0m\n\u001b[0m\u001b[1;32m     46\u001b[0m \u001b[0;34m\u001b[0m\u001b[0m\n\u001b[1;32m     47\u001b[0m \u001b[0;31m# API 호출 결과 확인\u001b[0m\u001b[0;34m\u001b[0m\u001b[0;34m\u001b[0m\u001b[0m\n",
            "\u001b[0;32m/usr/lib/python3.9/urllib/request.py\u001b[0m in \u001b[0;36murlopen\u001b[0;34m(url, data, timeout, cafile, capath, cadefault, context)\u001b[0m\n\u001b[1;32m    212\u001b[0m     \u001b[0;32melse\u001b[0m\u001b[0;34m:\u001b[0m\u001b[0;34m\u001b[0m\u001b[0;34m\u001b[0m\u001b[0m\n\u001b[1;32m    213\u001b[0m         \u001b[0mopener\u001b[0m \u001b[0;34m=\u001b[0m \u001b[0m_opener\u001b[0m\u001b[0;34m\u001b[0m\u001b[0;34m\u001b[0m\u001b[0m\n\u001b[0;32m--> 214\u001b[0;31m     \u001b[0;32mreturn\u001b[0m \u001b[0mopener\u001b[0m\u001b[0;34m.\u001b[0m\u001b[0mopen\u001b[0m\u001b[0;34m(\u001b[0m\u001b[0murl\u001b[0m\u001b[0;34m,\u001b[0m \u001b[0mdata\u001b[0m\u001b[0;34m,\u001b[0m \u001b[0mtimeout\u001b[0m\u001b[0;34m)\u001b[0m\u001b[0;34m\u001b[0m\u001b[0;34m\u001b[0m\u001b[0m\n\u001b[0m\u001b[1;32m    215\u001b[0m \u001b[0;34m\u001b[0m\u001b[0m\n\u001b[1;32m    216\u001b[0m \u001b[0;32mdef\u001b[0m \u001b[0minstall_opener\u001b[0m\u001b[0;34m(\u001b[0m\u001b[0mopener\u001b[0m\u001b[0;34m)\u001b[0m\u001b[0;34m:\u001b[0m\u001b[0;34m\u001b[0m\u001b[0;34m\u001b[0m\u001b[0m\n",
            "\u001b[0;32m/usr/lib/python3.9/urllib/request.py\u001b[0m in \u001b[0;36mopen\u001b[0;34m(self, fullurl, data, timeout)\u001b[0m\n\u001b[1;32m    521\u001b[0m         \u001b[0;32mfor\u001b[0m \u001b[0mprocessor\u001b[0m \u001b[0;32min\u001b[0m \u001b[0mself\u001b[0m\u001b[0;34m.\u001b[0m\u001b[0mprocess_response\u001b[0m\u001b[0;34m.\u001b[0m\u001b[0mget\u001b[0m\u001b[0;34m(\u001b[0m\u001b[0mprotocol\u001b[0m\u001b[0;34m,\u001b[0m \u001b[0;34m[\u001b[0m\u001b[0;34m]\u001b[0m\u001b[0;34m)\u001b[0m\u001b[0;34m:\u001b[0m\u001b[0;34m\u001b[0m\u001b[0;34m\u001b[0m\u001b[0m\n\u001b[1;32m    522\u001b[0m             \u001b[0mmeth\u001b[0m \u001b[0;34m=\u001b[0m \u001b[0mgetattr\u001b[0m\u001b[0;34m(\u001b[0m\u001b[0mprocessor\u001b[0m\u001b[0;34m,\u001b[0m \u001b[0mmeth_name\u001b[0m\u001b[0;34m)\u001b[0m\u001b[0;34m\u001b[0m\u001b[0;34m\u001b[0m\u001b[0m\n\u001b[0;32m--> 523\u001b[0;31m             \u001b[0mresponse\u001b[0m \u001b[0;34m=\u001b[0m \u001b[0mmeth\u001b[0m\u001b[0;34m(\u001b[0m\u001b[0mreq\u001b[0m\u001b[0;34m,\u001b[0m \u001b[0mresponse\u001b[0m\u001b[0;34m)\u001b[0m\u001b[0;34m\u001b[0m\u001b[0;34m\u001b[0m\u001b[0m\n\u001b[0m\u001b[1;32m    524\u001b[0m \u001b[0;34m\u001b[0m\u001b[0m\n\u001b[1;32m    525\u001b[0m         \u001b[0;32mreturn\u001b[0m \u001b[0mresponse\u001b[0m\u001b[0;34m\u001b[0m\u001b[0;34m\u001b[0m\u001b[0m\n",
            "\u001b[0;32m/usr/lib/python3.9/urllib/request.py\u001b[0m in \u001b[0;36mhttp_response\u001b[0;34m(self, request, response)\u001b[0m\n\u001b[1;32m    630\u001b[0m         \u001b[0;31m# request was successfully received, understood, and accepted.\u001b[0m\u001b[0;34m\u001b[0m\u001b[0;34m\u001b[0m\u001b[0m\n\u001b[1;32m    631\u001b[0m         \u001b[0;32mif\u001b[0m \u001b[0;32mnot\u001b[0m \u001b[0;34m(\u001b[0m\u001b[0;36m200\u001b[0m \u001b[0;34m<=\u001b[0m \u001b[0mcode\u001b[0m \u001b[0;34m<\u001b[0m \u001b[0;36m300\u001b[0m\u001b[0;34m)\u001b[0m\u001b[0;34m:\u001b[0m\u001b[0;34m\u001b[0m\u001b[0;34m\u001b[0m\u001b[0m\n\u001b[0;32m--> 632\u001b[0;31m             response = self.parent.error(\n\u001b[0m\u001b[1;32m    633\u001b[0m                 'http', request, response, code, msg, hdrs)\n\u001b[1;32m    634\u001b[0m \u001b[0;34m\u001b[0m\u001b[0m\n",
            "\u001b[0;32m/usr/lib/python3.9/urllib/request.py\u001b[0m in \u001b[0;36merror\u001b[0;34m(self, proto, *args)\u001b[0m\n\u001b[1;32m    559\u001b[0m         \u001b[0;32mif\u001b[0m \u001b[0mhttp_err\u001b[0m\u001b[0;34m:\u001b[0m\u001b[0;34m\u001b[0m\u001b[0;34m\u001b[0m\u001b[0m\n\u001b[1;32m    560\u001b[0m             \u001b[0margs\u001b[0m \u001b[0;34m=\u001b[0m \u001b[0;34m(\u001b[0m\u001b[0mdict\u001b[0m\u001b[0;34m,\u001b[0m \u001b[0;34m'default'\u001b[0m\u001b[0;34m,\u001b[0m \u001b[0;34m'http_error_default'\u001b[0m\u001b[0;34m)\u001b[0m \u001b[0;34m+\u001b[0m \u001b[0morig_args\u001b[0m\u001b[0;34m\u001b[0m\u001b[0;34m\u001b[0m\u001b[0m\n\u001b[0;32m--> 561\u001b[0;31m             \u001b[0;32mreturn\u001b[0m \u001b[0mself\u001b[0m\u001b[0;34m.\u001b[0m\u001b[0m_call_chain\u001b[0m\u001b[0;34m(\u001b[0m\u001b[0;34m*\u001b[0m\u001b[0margs\u001b[0m\u001b[0;34m)\u001b[0m\u001b[0;34m\u001b[0m\u001b[0;34m\u001b[0m\u001b[0m\n\u001b[0m\u001b[1;32m    562\u001b[0m \u001b[0;34m\u001b[0m\u001b[0m\n\u001b[1;32m    563\u001b[0m \u001b[0;31m# XXX probably also want an abstract factory that knows when it makes\u001b[0m\u001b[0;34m\u001b[0m\u001b[0;34m\u001b[0m\u001b[0m\n",
            "\u001b[0;32m/usr/lib/python3.9/urllib/request.py\u001b[0m in \u001b[0;36m_call_chain\u001b[0;34m(self, chain, kind, meth_name, *args)\u001b[0m\n\u001b[1;32m    492\u001b[0m         \u001b[0;32mfor\u001b[0m \u001b[0mhandler\u001b[0m \u001b[0;32min\u001b[0m \u001b[0mhandlers\u001b[0m\u001b[0;34m:\u001b[0m\u001b[0;34m\u001b[0m\u001b[0;34m\u001b[0m\u001b[0m\n\u001b[1;32m    493\u001b[0m             \u001b[0mfunc\u001b[0m \u001b[0;34m=\u001b[0m \u001b[0mgetattr\u001b[0m\u001b[0;34m(\u001b[0m\u001b[0mhandler\u001b[0m\u001b[0;34m,\u001b[0m \u001b[0mmeth_name\u001b[0m\u001b[0;34m)\u001b[0m\u001b[0;34m\u001b[0m\u001b[0;34m\u001b[0m\u001b[0m\n\u001b[0;32m--> 494\u001b[0;31m             \u001b[0mresult\u001b[0m \u001b[0;34m=\u001b[0m \u001b[0mfunc\u001b[0m\u001b[0;34m(\u001b[0m\u001b[0;34m*\u001b[0m\u001b[0margs\u001b[0m\u001b[0;34m)\u001b[0m\u001b[0;34m\u001b[0m\u001b[0;34m\u001b[0m\u001b[0m\n\u001b[0m\u001b[1;32m    495\u001b[0m             \u001b[0;32mif\u001b[0m \u001b[0mresult\u001b[0m \u001b[0;32mis\u001b[0m \u001b[0;32mnot\u001b[0m \u001b[0;32mNone\u001b[0m\u001b[0;34m:\u001b[0m\u001b[0;34m\u001b[0m\u001b[0;34m\u001b[0m\u001b[0m\n\u001b[1;32m    496\u001b[0m                 \u001b[0;32mreturn\u001b[0m \u001b[0mresult\u001b[0m\u001b[0;34m\u001b[0m\u001b[0;34m\u001b[0m\u001b[0m\n",
            "\u001b[0;32m/usr/lib/python3.9/urllib/request.py\u001b[0m in \u001b[0;36mhttp_error_default\u001b[0;34m(self, req, fp, code, msg, hdrs)\u001b[0m\n\u001b[1;32m    639\u001b[0m \u001b[0;32mclass\u001b[0m \u001b[0mHTTPDefaultErrorHandler\u001b[0m\u001b[0;34m(\u001b[0m\u001b[0mBaseHandler\u001b[0m\u001b[0;34m)\u001b[0m\u001b[0;34m:\u001b[0m\u001b[0;34m\u001b[0m\u001b[0;34m\u001b[0m\u001b[0m\n\u001b[1;32m    640\u001b[0m     \u001b[0;32mdef\u001b[0m \u001b[0mhttp_error_default\u001b[0m\u001b[0;34m(\u001b[0m\u001b[0mself\u001b[0m\u001b[0;34m,\u001b[0m \u001b[0mreq\u001b[0m\u001b[0;34m,\u001b[0m \u001b[0mfp\u001b[0m\u001b[0;34m,\u001b[0m \u001b[0mcode\u001b[0m\u001b[0;34m,\u001b[0m \u001b[0mmsg\u001b[0m\u001b[0;34m,\u001b[0m \u001b[0mhdrs\u001b[0m\u001b[0;34m)\u001b[0m\u001b[0;34m:\u001b[0m\u001b[0;34m\u001b[0m\u001b[0;34m\u001b[0m\u001b[0m\n\u001b[0;32m--> 641\u001b[0;31m         \u001b[0;32mraise\u001b[0m \u001b[0mHTTPError\u001b[0m\u001b[0;34m(\u001b[0m\u001b[0mreq\u001b[0m\u001b[0;34m.\u001b[0m\u001b[0mfull_url\u001b[0m\u001b[0;34m,\u001b[0m \u001b[0mcode\u001b[0m\u001b[0;34m,\u001b[0m \u001b[0mmsg\u001b[0m\u001b[0;34m,\u001b[0m \u001b[0mhdrs\u001b[0m\u001b[0;34m,\u001b[0m \u001b[0mfp\u001b[0m\u001b[0;34m)\u001b[0m\u001b[0;34m\u001b[0m\u001b[0;34m\u001b[0m\u001b[0m\n\u001b[0m\u001b[1;32m    642\u001b[0m \u001b[0;34m\u001b[0m\u001b[0m\n\u001b[1;32m    643\u001b[0m \u001b[0;32mclass\u001b[0m \u001b[0mHTTPRedirectHandler\u001b[0m\u001b[0;34m(\u001b[0m\u001b[0mBaseHandler\u001b[0m\u001b[0;34m)\u001b[0m\u001b[0;34m:\u001b[0m\u001b[0;34m\u001b[0m\u001b[0;34m\u001b[0m\u001b[0m\n",
            "\u001b[0;31mHTTPError\u001b[0m: HTTP Error 400: Bad Request"
          ]
        }
      ]
    },
    {
      "cell_type": "code",
      "source": [
        "import urllib.request\n",
        "import json\n",
        "\n",
        "# 데이터랩 API 인증키\n",
        "client_id = \"0T1JOYIqKWNOC8o1_6pM\"\n",
        "client_secret = \"rkfbCrzxzA\"\n"
      ],
      "metadata": {
        "id": "_M0cfwf04MXd"
      },
      "execution_count": null,
      "outputs": []
    },
    {
      "cell_type": "code",
      "source": [
        "# 검색어와 검색기간 설정\n",
        "keyword = \"스마트폰\"\n",
        "start_date = \"20220101\"\n",
        "end_date = \"20230331\"\n"
      ],
      "metadata": {
        "id": "hzr4S8sx4Wgj"
      },
      "execution_count": null,
      "outputs": []
    },
    {
      "cell_type": "code",
      "source": [
        "# 데이터 랩 API 호출을 위한 URL 설정\n",
        "url = \"https://openapi.naver.com/v1/datalab/search\"\n",
        "# 헤더 정보 설정\n",
        "headers = {\n",
        "    \"Content-Type\": \"application/json\",\n",
        "    \"X-Naver-Client-Id\": client_id,\n",
        "    \"X-Naver-Client-Secret\": client_secret\n",
        "}\n"
      ],
      "metadata": {
        "id": "MJsQMX3O4Zt-"
      },
      "execution_count": null,
      "outputs": []
    },
    {
      "cell_type": "code",
      "source": [
        "# API 호출에 필요한 파라미터 설정\n",
        "data = {\n",
        "    \"startDate\": start_date,\n",
        "    \"endDate\": end_date,\n",
        "    \"timeUnit\": \"month\",\n",
        "    \"keywordGroups\": [\n",
        "        {\"groupName\": keyword, \"keywords\": [keyword]}\n",
        "    ]\n",
        "}\n"
      ],
      "metadata": {
        "id": "FromPq5i4cAv"
      },
      "execution_count": null,
      "outputs": []
    },
    {
      "cell_type": "code",
      "source": [
        "# 데이터 랩 API 호출\n",
        "request = urllib.request.Request(url, headers=headers)\n",
        "response = urllib.request.urlopen(request, data=json.dumps(data).encode(\"utf-8\"))\n",
        "\n",
        "# API 호출 결과 확인\n",
        "response_body = response.read().decode(\"utf-8\")\n",
        "result = json.loads(response_body)\n",
        "\n",
        "# 검색량 추이 출력\n",
        "data = result[\"results\"][0][\"data\"]\n",
        "for item in data:\n",
        "    period = item[\"period\"]\n",
        "    ratio = item[\"ratio\"]\n",
        "    print(period, ratio)\n",
        "    \n",
        "# 연령별 검색 비율 출력\n",
        "ages = result[\"results\"][0][\"age\"]\n",
        "for age in ages:\n",
        "    age_name = age[\"name\"]\n",
        "    ratio = age[\"ratio\"]\n",
        "    print(age_name, ratio)\n",
        "    \n",
        "# 성별 검색 비율 출력\n",
        "genders = result[\"results\"][0][\"gender\"]\n",
        "for gender in genders:\n",
        "    gender_name = gender[\"name\"]\n",
        "    ratio = gender[\"ratio\"]\n",
        "    print(gender_name, ratio)\n"
      ],
      "metadata": {
        "colab": {
          "base_uri": "https://localhost:8080/",
          "height": 1000
        },
        "id": "aqi2be1s4fRA",
        "outputId": "cfad8ce9-e2c2-44d7-b28f-92afcfa42ac2"
      },
      "execution_count": null,
      "outputs": [
        {
          "output_type": "error",
          "ename": "HTTPError",
          "evalue": "ignored",
          "traceback": [
            "\u001b[0;31m---------------------------------------------------------------------------\u001b[0m",
            "\u001b[0;31mHTTPError\u001b[0m                                 Traceback (most recent call last)",
            "\u001b[0;32m<ipython-input-23-2a5978a54b36>\u001b[0m in \u001b[0;36m<cell line: 3>\u001b[0;34m()\u001b[0m\n\u001b[1;32m      1\u001b[0m \u001b[0;31m# 데이터 랩 API 호출\u001b[0m\u001b[0;34m\u001b[0m\u001b[0;34m\u001b[0m\u001b[0m\n\u001b[1;32m      2\u001b[0m \u001b[0mrequest\u001b[0m \u001b[0;34m=\u001b[0m \u001b[0murllib\u001b[0m\u001b[0;34m.\u001b[0m\u001b[0mrequest\u001b[0m\u001b[0;34m.\u001b[0m\u001b[0mRequest\u001b[0m\u001b[0;34m(\u001b[0m\u001b[0murl\u001b[0m\u001b[0;34m,\u001b[0m \u001b[0mheaders\u001b[0m\u001b[0;34m=\u001b[0m\u001b[0mheaders\u001b[0m\u001b[0;34m)\u001b[0m\u001b[0;34m\u001b[0m\u001b[0;34m\u001b[0m\u001b[0m\n\u001b[0;32m----> 3\u001b[0;31m \u001b[0mresponse\u001b[0m \u001b[0;34m=\u001b[0m \u001b[0murllib\u001b[0m\u001b[0;34m.\u001b[0m\u001b[0mrequest\u001b[0m\u001b[0;34m.\u001b[0m\u001b[0murlopen\u001b[0m\u001b[0;34m(\u001b[0m\u001b[0mrequest\u001b[0m\u001b[0;34m,\u001b[0m \u001b[0mdata\u001b[0m\u001b[0;34m=\u001b[0m\u001b[0mjson\u001b[0m\u001b[0;34m.\u001b[0m\u001b[0mdumps\u001b[0m\u001b[0;34m(\u001b[0m\u001b[0mdata\u001b[0m\u001b[0;34m)\u001b[0m\u001b[0;34m.\u001b[0m\u001b[0mencode\u001b[0m\u001b[0;34m(\u001b[0m\u001b[0;34m\"utf-8\"\u001b[0m\u001b[0;34m)\u001b[0m\u001b[0;34m)\u001b[0m\u001b[0;34m\u001b[0m\u001b[0;34m\u001b[0m\u001b[0m\n\u001b[0m\u001b[1;32m      4\u001b[0m \u001b[0;34m\u001b[0m\u001b[0m\n\u001b[1;32m      5\u001b[0m \u001b[0;31m# API 호출 결과 확인\u001b[0m\u001b[0;34m\u001b[0m\u001b[0;34m\u001b[0m\u001b[0m\n",
            "\u001b[0;32m/usr/lib/python3.9/urllib/request.py\u001b[0m in \u001b[0;36murlopen\u001b[0;34m(url, data, timeout, cafile, capath, cadefault, context)\u001b[0m\n\u001b[1;32m    212\u001b[0m     \u001b[0;32melse\u001b[0m\u001b[0;34m:\u001b[0m\u001b[0;34m\u001b[0m\u001b[0;34m\u001b[0m\u001b[0m\n\u001b[1;32m    213\u001b[0m         \u001b[0mopener\u001b[0m \u001b[0;34m=\u001b[0m \u001b[0m_opener\u001b[0m\u001b[0;34m\u001b[0m\u001b[0;34m\u001b[0m\u001b[0m\n\u001b[0;32m--> 214\u001b[0;31m     \u001b[0;32mreturn\u001b[0m \u001b[0mopener\u001b[0m\u001b[0;34m.\u001b[0m\u001b[0mopen\u001b[0m\u001b[0;34m(\u001b[0m\u001b[0murl\u001b[0m\u001b[0;34m,\u001b[0m \u001b[0mdata\u001b[0m\u001b[0;34m,\u001b[0m \u001b[0mtimeout\u001b[0m\u001b[0;34m)\u001b[0m\u001b[0;34m\u001b[0m\u001b[0;34m\u001b[0m\u001b[0m\n\u001b[0m\u001b[1;32m    215\u001b[0m \u001b[0;34m\u001b[0m\u001b[0m\n\u001b[1;32m    216\u001b[0m \u001b[0;32mdef\u001b[0m \u001b[0minstall_opener\u001b[0m\u001b[0;34m(\u001b[0m\u001b[0mopener\u001b[0m\u001b[0;34m)\u001b[0m\u001b[0;34m:\u001b[0m\u001b[0;34m\u001b[0m\u001b[0;34m\u001b[0m\u001b[0m\n",
            "\u001b[0;32m/usr/lib/python3.9/urllib/request.py\u001b[0m in \u001b[0;36mopen\u001b[0;34m(self, fullurl, data, timeout)\u001b[0m\n\u001b[1;32m    521\u001b[0m         \u001b[0;32mfor\u001b[0m \u001b[0mprocessor\u001b[0m \u001b[0;32min\u001b[0m \u001b[0mself\u001b[0m\u001b[0;34m.\u001b[0m\u001b[0mprocess_response\u001b[0m\u001b[0;34m.\u001b[0m\u001b[0mget\u001b[0m\u001b[0;34m(\u001b[0m\u001b[0mprotocol\u001b[0m\u001b[0;34m,\u001b[0m \u001b[0;34m[\u001b[0m\u001b[0;34m]\u001b[0m\u001b[0;34m)\u001b[0m\u001b[0;34m:\u001b[0m\u001b[0;34m\u001b[0m\u001b[0;34m\u001b[0m\u001b[0m\n\u001b[1;32m    522\u001b[0m             \u001b[0mmeth\u001b[0m \u001b[0;34m=\u001b[0m \u001b[0mgetattr\u001b[0m\u001b[0;34m(\u001b[0m\u001b[0mprocessor\u001b[0m\u001b[0;34m,\u001b[0m \u001b[0mmeth_name\u001b[0m\u001b[0;34m)\u001b[0m\u001b[0;34m\u001b[0m\u001b[0;34m\u001b[0m\u001b[0m\n\u001b[0;32m--> 523\u001b[0;31m             \u001b[0mresponse\u001b[0m \u001b[0;34m=\u001b[0m \u001b[0mmeth\u001b[0m\u001b[0;34m(\u001b[0m\u001b[0mreq\u001b[0m\u001b[0;34m,\u001b[0m \u001b[0mresponse\u001b[0m\u001b[0;34m)\u001b[0m\u001b[0;34m\u001b[0m\u001b[0;34m\u001b[0m\u001b[0m\n\u001b[0m\u001b[1;32m    524\u001b[0m \u001b[0;34m\u001b[0m\u001b[0m\n\u001b[1;32m    525\u001b[0m         \u001b[0;32mreturn\u001b[0m \u001b[0mresponse\u001b[0m\u001b[0;34m\u001b[0m\u001b[0;34m\u001b[0m\u001b[0m\n",
            "\u001b[0;32m/usr/lib/python3.9/urllib/request.py\u001b[0m in \u001b[0;36mhttp_response\u001b[0;34m(self, request, response)\u001b[0m\n\u001b[1;32m    630\u001b[0m         \u001b[0;31m# request was successfully received, understood, and accepted.\u001b[0m\u001b[0;34m\u001b[0m\u001b[0;34m\u001b[0m\u001b[0m\n\u001b[1;32m    631\u001b[0m         \u001b[0;32mif\u001b[0m \u001b[0;32mnot\u001b[0m \u001b[0;34m(\u001b[0m\u001b[0;36m200\u001b[0m \u001b[0;34m<=\u001b[0m \u001b[0mcode\u001b[0m \u001b[0;34m<\u001b[0m \u001b[0;36m300\u001b[0m\u001b[0;34m)\u001b[0m\u001b[0;34m:\u001b[0m\u001b[0;34m\u001b[0m\u001b[0;34m\u001b[0m\u001b[0m\n\u001b[0;32m--> 632\u001b[0;31m             response = self.parent.error(\n\u001b[0m\u001b[1;32m    633\u001b[0m                 'http', request, response, code, msg, hdrs)\n\u001b[1;32m    634\u001b[0m \u001b[0;34m\u001b[0m\u001b[0m\n",
            "\u001b[0;32m/usr/lib/python3.9/urllib/request.py\u001b[0m in \u001b[0;36merror\u001b[0;34m(self, proto, *args)\u001b[0m\n\u001b[1;32m    559\u001b[0m         \u001b[0;32mif\u001b[0m \u001b[0mhttp_err\u001b[0m\u001b[0;34m:\u001b[0m\u001b[0;34m\u001b[0m\u001b[0;34m\u001b[0m\u001b[0m\n\u001b[1;32m    560\u001b[0m             \u001b[0margs\u001b[0m \u001b[0;34m=\u001b[0m \u001b[0;34m(\u001b[0m\u001b[0mdict\u001b[0m\u001b[0;34m,\u001b[0m \u001b[0;34m'default'\u001b[0m\u001b[0;34m,\u001b[0m \u001b[0;34m'http_error_default'\u001b[0m\u001b[0;34m)\u001b[0m \u001b[0;34m+\u001b[0m \u001b[0morig_args\u001b[0m\u001b[0;34m\u001b[0m\u001b[0;34m\u001b[0m\u001b[0m\n\u001b[0;32m--> 561\u001b[0;31m             \u001b[0;32mreturn\u001b[0m \u001b[0mself\u001b[0m\u001b[0;34m.\u001b[0m\u001b[0m_call_chain\u001b[0m\u001b[0;34m(\u001b[0m\u001b[0;34m*\u001b[0m\u001b[0margs\u001b[0m\u001b[0;34m)\u001b[0m\u001b[0;34m\u001b[0m\u001b[0;34m\u001b[0m\u001b[0m\n\u001b[0m\u001b[1;32m    562\u001b[0m \u001b[0;34m\u001b[0m\u001b[0m\n\u001b[1;32m    563\u001b[0m \u001b[0;31m# XXX probably also want an abstract factory that knows when it makes\u001b[0m\u001b[0;34m\u001b[0m\u001b[0;34m\u001b[0m\u001b[0m\n",
            "\u001b[0;32m/usr/lib/python3.9/urllib/request.py\u001b[0m in \u001b[0;36m_call_chain\u001b[0;34m(self, chain, kind, meth_name, *args)\u001b[0m\n\u001b[1;32m    492\u001b[0m         \u001b[0;32mfor\u001b[0m \u001b[0mhandler\u001b[0m \u001b[0;32min\u001b[0m \u001b[0mhandlers\u001b[0m\u001b[0;34m:\u001b[0m\u001b[0;34m\u001b[0m\u001b[0;34m\u001b[0m\u001b[0m\n\u001b[1;32m    493\u001b[0m             \u001b[0mfunc\u001b[0m \u001b[0;34m=\u001b[0m \u001b[0mgetattr\u001b[0m\u001b[0;34m(\u001b[0m\u001b[0mhandler\u001b[0m\u001b[0;34m,\u001b[0m \u001b[0mmeth_name\u001b[0m\u001b[0;34m)\u001b[0m\u001b[0;34m\u001b[0m\u001b[0;34m\u001b[0m\u001b[0m\n\u001b[0;32m--> 494\u001b[0;31m             \u001b[0mresult\u001b[0m \u001b[0;34m=\u001b[0m \u001b[0mfunc\u001b[0m\u001b[0;34m(\u001b[0m\u001b[0;34m*\u001b[0m\u001b[0margs\u001b[0m\u001b[0;34m)\u001b[0m\u001b[0;34m\u001b[0m\u001b[0;34m\u001b[0m\u001b[0m\n\u001b[0m\u001b[1;32m    495\u001b[0m             \u001b[0;32mif\u001b[0m \u001b[0mresult\u001b[0m \u001b[0;32mis\u001b[0m \u001b[0;32mnot\u001b[0m \u001b[0;32mNone\u001b[0m\u001b[0;34m:\u001b[0m\u001b[0;34m\u001b[0m\u001b[0;34m\u001b[0m\u001b[0m\n\u001b[1;32m    496\u001b[0m                 \u001b[0;32mreturn\u001b[0m \u001b[0mresult\u001b[0m\u001b[0;34m\u001b[0m\u001b[0;34m\u001b[0m\u001b[0m\n",
            "\u001b[0;32m/usr/lib/python3.9/urllib/request.py\u001b[0m in \u001b[0;36mhttp_error_default\u001b[0;34m(self, req, fp, code, msg, hdrs)\u001b[0m\n\u001b[1;32m    639\u001b[0m \u001b[0;32mclass\u001b[0m \u001b[0mHTTPDefaultErrorHandler\u001b[0m\u001b[0;34m(\u001b[0m\u001b[0mBaseHandler\u001b[0m\u001b[0;34m)\u001b[0m\u001b[0;34m:\u001b[0m\u001b[0;34m\u001b[0m\u001b[0;34m\u001b[0m\u001b[0m\n\u001b[1;32m    640\u001b[0m     \u001b[0;32mdef\u001b[0m \u001b[0mhttp_error_default\u001b[0m\u001b[0;34m(\u001b[0m\u001b[0mself\u001b[0m\u001b[0;34m,\u001b[0m \u001b[0mreq\u001b[0m\u001b[0;34m,\u001b[0m \u001b[0mfp\u001b[0m\u001b[0;34m,\u001b[0m \u001b[0mcode\u001b[0m\u001b[0;34m,\u001b[0m \u001b[0mmsg\u001b[0m\u001b[0;34m,\u001b[0m \u001b[0mhdrs\u001b[0m\u001b[0;34m)\u001b[0m\u001b[0;34m:\u001b[0m\u001b[0;34m\u001b[0m\u001b[0;34m\u001b[0m\u001b[0m\n\u001b[0;32m--> 641\u001b[0;31m         \u001b[0;32mraise\u001b[0m \u001b[0mHTTPError\u001b[0m\u001b[0;34m(\u001b[0m\u001b[0mreq\u001b[0m\u001b[0;34m.\u001b[0m\u001b[0mfull_url\u001b[0m\u001b[0;34m,\u001b[0m \u001b[0mcode\u001b[0m\u001b[0;34m,\u001b[0m \u001b[0mmsg\u001b[0m\u001b[0;34m,\u001b[0m \u001b[0mhdrs\u001b[0m\u001b[0;34m,\u001b[0m \u001b[0mfp\u001b[0m\u001b[0;34m)\u001b[0m\u001b[0;34m\u001b[0m\u001b[0;34m\u001b[0m\u001b[0m\n\u001b[0m\u001b[1;32m    642\u001b[0m \u001b[0;34m\u001b[0m\u001b[0m\n\u001b[1;32m    643\u001b[0m \u001b[0;32mclass\u001b[0m \u001b[0mHTTPRedirectHandler\u001b[0m\u001b[0;34m(\u001b[0m\u001b[0mBaseHandler\u001b[0m\u001b[0;34m)\u001b[0m\u001b[0;34m:\u001b[0m\u001b[0;34m\u001b[0m\u001b[0;34m\u001b[0m\u001b[0m\n",
            "\u001b[0;31mHTTPError\u001b[0m: HTTP Error 400: Bad Request"
          ]
        }
      ]
    },
    {
      "cell_type": "code",
      "source": [
        "import urllib.request\n",
        "import json\n",
        "\n",
        "url = \"https://openapi.naver.com/v1/datalab/search\"\n",
        "headers = {\n",
        "    \"X-Naver-Client-Id\": \"0T1JOYIqKWNOC8o1_6pM\",\n",
        "    \"X-Naver-Client-Secret\": \"rkfbCrzxzA\",\n",
        "    \"Content-Type\": \"application/json\"\n",
        "}\n",
        "body = {\n",
        "    \"startDate\": \"2022-01-01\",\n",
        "    \"endDate\": \"2023-03-31\",\n",
        "    \"timeUnit\": \"date\",\n",
        "    \"keywordGroups\": [\n",
        "        {\n",
        "            \"groupName\": \"검색어\",\n",
        "            \"keywords\": [\n",
        "                \"제품A\",\n",
        "                \"제품B\",\n",
        "                \"제품C\"\n",
        "            ]\n",
        "        }\n",
        "    ],\n",
        "    \"device\": \"\",\n",
        "    \"gender\": \"\",\n",
        "    \"ages\": [\n",
        "        \"-19\",\n",
        "        \"20-29\",\n",
        "        \"30-39\",\n",
        "        \"40-49\",\n",
        "        \"50-59\",\n",
        "        \"60+\"\n",
        "    ],\n",
        "    \"fields\": [\n",
        "        {\n",
        "            \"name\": \"날짜\",\n",
        "            \"type\": \"time\"\n",
        "        },\n",
        "        {\n",
        "            \"name\": \"검색량\",\n",
        "            \"type\": \"number\"\n",
        "        }\n",
        "    ],\n",
        "    \"sort\": [\n",
        "        {\n",
        "            \"field\": \"날짜\",\n",
        "            \"order\": \"ascending\"\n",
        "        }\n",
        "    ],\n",
        "    \"limit\": 100000\n",
        "}\n",
        "data = json.dumps(body).encode(\"utf-8\")\n",
        "\n",
        "# 데이터 랩 API 호출\n",
        "request = urllib.request.Request(url, headers=headers, data=data)\n",
        "response = urllib.request.urlopen(request)\n",
        "\n",
        "# API 호출 결과 확인\n",
        "response_body = response.read().decode(\"utf-8\")\n",
        "result = json.loads(response_body)\n",
        "\n",
        "# 검색량 추이 출력\n",
        "data = result[\"results\"][0][\"data\"]\n",
        "for item in data:\n",
        "    period = item[\"period\"]\n",
        "    ratio = item[\"ratio\"]\n",
        "    print(period, ratio)\n",
        "    \n",
        "# 연령별 검색 비율 출력\n",
        "ages = result[\"results\"][0][\"age\"]\n",
        "for age in ages:\n",
        "    age_name = age[\"name\"]\n",
        "    ratio = age[\"ratio\"]\n",
        "    print(age_name, ratio)\n",
        "    \n",
        "# 성별 검색 비율 출력\n",
        "genders = result[\"results\"][0][\"gender\"]\n",
        "for gender in genders:\n",
        "    gender_name = gender[\"name\"]\n",
        "    ratio = gender[\"ratio\"]\n",
        "    print(gender_name, ratio)\n"
      ],
      "metadata": {
        "colab": {
          "base_uri": "https://localhost:8080/",
          "height": 397
        },
        "id": "OuRaNqW_5WvG",
        "outputId": "7180ede1-8a36-4282-c7ab-9fea30ad267c"
      },
      "execution_count": null,
      "outputs": [
        {
          "output_type": "error",
          "ename": "HTTPError",
          "evalue": "ignored",
          "traceback": [
            "\u001b[0;31m---------------------------------------------------------------------------\u001b[0m",
            "\u001b[0;31mHTTPError\u001b[0m                                 Traceback (most recent call last)",
            "\u001b[0;32m<ipython-input-24-ae9a880a0456>\u001b[0m in \u001b[0;36m<cell line: 56>\u001b[0;34m()\u001b[0m\n\u001b[1;32m     54\u001b[0m \u001b[0;31m# 데이터 랩 API 호출\u001b[0m\u001b[0;34m\u001b[0m\u001b[0;34m\u001b[0m\u001b[0m\n\u001b[1;32m     55\u001b[0m \u001b[0mrequest\u001b[0m \u001b[0;34m=\u001b[0m \u001b[0murllib\u001b[0m\u001b[0;34m.\u001b[0m\u001b[0mrequest\u001b[0m\u001b[0;34m.\u001b[0m\u001b[0mRequest\u001b[0m\u001b[0;34m(\u001b[0m\u001b[0murl\u001b[0m\u001b[0;34m,\u001b[0m \u001b[0mheaders\u001b[0m\u001b[0;34m=\u001b[0m\u001b[0mheaders\u001b[0m\u001b[0;34m,\u001b[0m \u001b[0mdata\u001b[0m\u001b[0;34m=\u001b[0m\u001b[0mdata\u001b[0m\u001b[0;34m)\u001b[0m\u001b[0;34m\u001b[0m\u001b[0;34m\u001b[0m\u001b[0m\n\u001b[0;32m---> 56\u001b[0;31m \u001b[0mresponse\u001b[0m \u001b[0;34m=\u001b[0m \u001b[0murllib\u001b[0m\u001b[0;34m.\u001b[0m\u001b[0mrequest\u001b[0m\u001b[0;34m.\u001b[0m\u001b[0murlopen\u001b[0m\u001b[0;34m(\u001b[0m\u001b[0mrequest\u001b[0m\u001b[0;34m)\u001b[0m\u001b[0;34m\u001b[0m\u001b[0;34m\u001b[0m\u001b[0m\n\u001b[0m\u001b[1;32m     57\u001b[0m \u001b[0;34m\u001b[0m\u001b[0m\n\u001b[1;32m     58\u001b[0m \u001b[0;31m# API 호출 결과 확인\u001b[0m\u001b[0;34m\u001b[0m\u001b[0;34m\u001b[0m\u001b[0m\n",
            "\u001b[0;32m/usr/lib/python3.9/urllib/request.py\u001b[0m in \u001b[0;36murlopen\u001b[0;34m(url, data, timeout, cafile, capath, cadefault, context)\u001b[0m\n\u001b[1;32m    212\u001b[0m     \u001b[0;32melse\u001b[0m\u001b[0;34m:\u001b[0m\u001b[0;34m\u001b[0m\u001b[0;34m\u001b[0m\u001b[0m\n\u001b[1;32m    213\u001b[0m         \u001b[0mopener\u001b[0m \u001b[0;34m=\u001b[0m \u001b[0m_opener\u001b[0m\u001b[0;34m\u001b[0m\u001b[0;34m\u001b[0m\u001b[0m\n\u001b[0;32m--> 214\u001b[0;31m     \u001b[0;32mreturn\u001b[0m \u001b[0mopener\u001b[0m\u001b[0;34m.\u001b[0m\u001b[0mopen\u001b[0m\u001b[0;34m(\u001b[0m\u001b[0murl\u001b[0m\u001b[0;34m,\u001b[0m \u001b[0mdata\u001b[0m\u001b[0;34m,\u001b[0m \u001b[0mtimeout\u001b[0m\u001b[0;34m)\u001b[0m\u001b[0;34m\u001b[0m\u001b[0;34m\u001b[0m\u001b[0m\n\u001b[0m\u001b[1;32m    215\u001b[0m \u001b[0;34m\u001b[0m\u001b[0m\n\u001b[1;32m    216\u001b[0m \u001b[0;32mdef\u001b[0m \u001b[0minstall_opener\u001b[0m\u001b[0;34m(\u001b[0m\u001b[0mopener\u001b[0m\u001b[0;34m)\u001b[0m\u001b[0;34m:\u001b[0m\u001b[0;34m\u001b[0m\u001b[0;34m\u001b[0m\u001b[0m\n",
            "\u001b[0;32m/usr/lib/python3.9/urllib/request.py\u001b[0m in \u001b[0;36mopen\u001b[0;34m(self, fullurl, data, timeout)\u001b[0m\n\u001b[1;32m    521\u001b[0m         \u001b[0;32mfor\u001b[0m \u001b[0mprocessor\u001b[0m \u001b[0;32min\u001b[0m \u001b[0mself\u001b[0m\u001b[0;34m.\u001b[0m\u001b[0mprocess_response\u001b[0m\u001b[0;34m.\u001b[0m\u001b[0mget\u001b[0m\u001b[0;34m(\u001b[0m\u001b[0mprotocol\u001b[0m\u001b[0;34m,\u001b[0m \u001b[0;34m[\u001b[0m\u001b[0;34m]\u001b[0m\u001b[0;34m)\u001b[0m\u001b[0;34m:\u001b[0m\u001b[0;34m\u001b[0m\u001b[0;34m\u001b[0m\u001b[0m\n\u001b[1;32m    522\u001b[0m             \u001b[0mmeth\u001b[0m \u001b[0;34m=\u001b[0m \u001b[0mgetattr\u001b[0m\u001b[0;34m(\u001b[0m\u001b[0mprocessor\u001b[0m\u001b[0;34m,\u001b[0m \u001b[0mmeth_name\u001b[0m\u001b[0;34m)\u001b[0m\u001b[0;34m\u001b[0m\u001b[0;34m\u001b[0m\u001b[0m\n\u001b[0;32m--> 523\u001b[0;31m             \u001b[0mresponse\u001b[0m \u001b[0;34m=\u001b[0m \u001b[0mmeth\u001b[0m\u001b[0;34m(\u001b[0m\u001b[0mreq\u001b[0m\u001b[0;34m,\u001b[0m \u001b[0mresponse\u001b[0m\u001b[0;34m)\u001b[0m\u001b[0;34m\u001b[0m\u001b[0;34m\u001b[0m\u001b[0m\n\u001b[0m\u001b[1;32m    524\u001b[0m \u001b[0;34m\u001b[0m\u001b[0m\n\u001b[1;32m    525\u001b[0m         \u001b[0;32mreturn\u001b[0m \u001b[0mresponse\u001b[0m\u001b[0;34m\u001b[0m\u001b[0;34m\u001b[0m\u001b[0m\n",
            "\u001b[0;32m/usr/lib/python3.9/urllib/request.py\u001b[0m in \u001b[0;36mhttp_response\u001b[0;34m(self, request, response)\u001b[0m\n\u001b[1;32m    630\u001b[0m         \u001b[0;31m# request was successfully received, understood, and accepted.\u001b[0m\u001b[0;34m\u001b[0m\u001b[0;34m\u001b[0m\u001b[0m\n\u001b[1;32m    631\u001b[0m         \u001b[0;32mif\u001b[0m \u001b[0;32mnot\u001b[0m \u001b[0;34m(\u001b[0m\u001b[0;36m200\u001b[0m \u001b[0;34m<=\u001b[0m \u001b[0mcode\u001b[0m \u001b[0;34m<\u001b[0m \u001b[0;36m300\u001b[0m\u001b[0;34m)\u001b[0m\u001b[0;34m:\u001b[0m\u001b[0;34m\u001b[0m\u001b[0;34m\u001b[0m\u001b[0m\n\u001b[0;32m--> 632\u001b[0;31m             response = self.parent.error(\n\u001b[0m\u001b[1;32m    633\u001b[0m                 'http', request, response, code, msg, hdrs)\n\u001b[1;32m    634\u001b[0m \u001b[0;34m\u001b[0m\u001b[0m\n",
            "\u001b[0;32m/usr/lib/python3.9/urllib/request.py\u001b[0m in \u001b[0;36merror\u001b[0;34m(self, proto, *args)\u001b[0m\n\u001b[1;32m    559\u001b[0m         \u001b[0;32mif\u001b[0m \u001b[0mhttp_err\u001b[0m\u001b[0;34m:\u001b[0m\u001b[0;34m\u001b[0m\u001b[0;34m\u001b[0m\u001b[0m\n\u001b[1;32m    560\u001b[0m             \u001b[0margs\u001b[0m \u001b[0;34m=\u001b[0m \u001b[0;34m(\u001b[0m\u001b[0mdict\u001b[0m\u001b[0;34m,\u001b[0m \u001b[0;34m'default'\u001b[0m\u001b[0;34m,\u001b[0m \u001b[0;34m'http_error_default'\u001b[0m\u001b[0;34m)\u001b[0m \u001b[0;34m+\u001b[0m \u001b[0morig_args\u001b[0m\u001b[0;34m\u001b[0m\u001b[0;34m\u001b[0m\u001b[0m\n\u001b[0;32m--> 561\u001b[0;31m             \u001b[0;32mreturn\u001b[0m \u001b[0mself\u001b[0m\u001b[0;34m.\u001b[0m\u001b[0m_call_chain\u001b[0m\u001b[0;34m(\u001b[0m\u001b[0;34m*\u001b[0m\u001b[0margs\u001b[0m\u001b[0;34m)\u001b[0m\u001b[0;34m\u001b[0m\u001b[0;34m\u001b[0m\u001b[0m\n\u001b[0m\u001b[1;32m    562\u001b[0m \u001b[0;34m\u001b[0m\u001b[0m\n\u001b[1;32m    563\u001b[0m \u001b[0;31m# XXX probably also want an abstract factory that knows when it makes\u001b[0m\u001b[0;34m\u001b[0m\u001b[0;34m\u001b[0m\u001b[0m\n",
            "\u001b[0;32m/usr/lib/python3.9/urllib/request.py\u001b[0m in \u001b[0;36m_call_chain\u001b[0;34m(self, chain, kind, meth_name, *args)\u001b[0m\n\u001b[1;32m    492\u001b[0m         \u001b[0;32mfor\u001b[0m \u001b[0mhandler\u001b[0m \u001b[0;32min\u001b[0m \u001b[0mhandlers\u001b[0m\u001b[0;34m:\u001b[0m\u001b[0;34m\u001b[0m\u001b[0;34m\u001b[0m\u001b[0m\n\u001b[1;32m    493\u001b[0m             \u001b[0mfunc\u001b[0m \u001b[0;34m=\u001b[0m \u001b[0mgetattr\u001b[0m\u001b[0;34m(\u001b[0m\u001b[0mhandler\u001b[0m\u001b[0;34m,\u001b[0m \u001b[0mmeth_name\u001b[0m\u001b[0;34m)\u001b[0m\u001b[0;34m\u001b[0m\u001b[0;34m\u001b[0m\u001b[0m\n\u001b[0;32m--> 494\u001b[0;31m             \u001b[0mresult\u001b[0m \u001b[0;34m=\u001b[0m \u001b[0mfunc\u001b[0m\u001b[0;34m(\u001b[0m\u001b[0;34m*\u001b[0m\u001b[0margs\u001b[0m\u001b[0;34m)\u001b[0m\u001b[0;34m\u001b[0m\u001b[0;34m\u001b[0m\u001b[0m\n\u001b[0m\u001b[1;32m    495\u001b[0m             \u001b[0;32mif\u001b[0m \u001b[0mresult\u001b[0m \u001b[0;32mis\u001b[0m \u001b[0;32mnot\u001b[0m \u001b[0;32mNone\u001b[0m\u001b[0;34m:\u001b[0m\u001b[0;34m\u001b[0m\u001b[0;34m\u001b[0m\u001b[0m\n\u001b[1;32m    496\u001b[0m                 \u001b[0;32mreturn\u001b[0m \u001b[0mresult\u001b[0m\u001b[0;34m\u001b[0m\u001b[0;34m\u001b[0m\u001b[0m\n",
            "\u001b[0;32m/usr/lib/python3.9/urllib/request.py\u001b[0m in \u001b[0;36mhttp_error_default\u001b[0;34m(self, req, fp, code, msg, hdrs)\u001b[0m\n\u001b[1;32m    639\u001b[0m \u001b[0;32mclass\u001b[0m \u001b[0mHTTPDefaultErrorHandler\u001b[0m\u001b[0;34m(\u001b[0m\u001b[0mBaseHandler\u001b[0m\u001b[0;34m)\u001b[0m\u001b[0;34m:\u001b[0m\u001b[0;34m\u001b[0m\u001b[0;34m\u001b[0m\u001b[0m\n\u001b[1;32m    640\u001b[0m     \u001b[0;32mdef\u001b[0m \u001b[0mhttp_error_default\u001b[0m\u001b[0;34m(\u001b[0m\u001b[0mself\u001b[0m\u001b[0;34m,\u001b[0m \u001b[0mreq\u001b[0m\u001b[0;34m,\u001b[0m \u001b[0mfp\u001b[0m\u001b[0;34m,\u001b[0m \u001b[0mcode\u001b[0m\u001b[0;34m,\u001b[0m \u001b[0mmsg\u001b[0m\u001b[0;34m,\u001b[0m \u001b[0mhdrs\u001b[0m\u001b[0;34m)\u001b[0m\u001b[0;34m:\u001b[0m\u001b[0;34m\u001b[0m\u001b[0;34m\u001b[0m\u001b[0m\n\u001b[0;32m--> 641\u001b[0;31m         \u001b[0;32mraise\u001b[0m \u001b[0mHTTPError\u001b[0m\u001b[0;34m(\u001b[0m\u001b[0mreq\u001b[0m\u001b[0;34m.\u001b[0m\u001b[0mfull_url\u001b[0m\u001b[0;34m,\u001b[0m \u001b[0mcode\u001b[0m\u001b[0;34m,\u001b[0m \u001b[0mmsg\u001b[0m\u001b[0;34m,\u001b[0m \u001b[0mhdrs\u001b[0m\u001b[0;34m,\u001b[0m \u001b[0mfp\u001b[0m\u001b[0;34m)\u001b[0m\u001b[0;34m\u001b[0m\u001b[0;34m\u001b[0m\u001b[0m\n\u001b[0m\u001b[1;32m    642\u001b[0m \u001b[0;34m\u001b[0m\u001b[0m\n\u001b[1;32m    643\u001b[0m \u001b[0;32mclass\u001b[0m \u001b[0mHTTPRedirectHandler\u001b[0m\u001b[0;34m(\u001b[0m\u001b[0mBaseHandler\u001b[0m\u001b[0;34m)\u001b[0m\u001b[0;34m:\u001b[0m\u001b[0;34m\u001b[0m\u001b[0;34m\u001b[0m\u001b[0m\n",
            "\u001b[0;31mHTTPError\u001b[0m: HTTP Error 400: Bad Request"
          ]
        }
      ]
    },
    {
      "cell_type": "code",
      "source": [],
      "metadata": {
        "id": "nIsmakvf7K-e"
      },
      "execution_count": null,
      "outputs": []
    }
  ]
}